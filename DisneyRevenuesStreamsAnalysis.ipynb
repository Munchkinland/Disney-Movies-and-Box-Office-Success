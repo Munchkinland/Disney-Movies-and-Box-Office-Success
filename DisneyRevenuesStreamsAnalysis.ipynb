{
  "nbformat": 4,
  "nbformat_minor": 0,
  "metadata": {
    "colab": {
      "name": "DisneyRevenuesStreamsAnalysis.ipynb",
      "provenance": [],
      "collapsed_sections": [],
      "authorship_tag": "ABX9TyPRAIe1T7eHjfb2wMLfi6X0",
      "include_colab_link": true
    },
    "kernelspec": {
      "name": "python3",
      "display_name": "Python 3"
    }
  },
  "cells": [
    {
      "cell_type": "markdown",
      "metadata": {
        "id": "view-in-github",
        "colab_type": "text"
      },
      "source": [
        "<a href=\"https://colab.research.google.com/github/uomodellamansarda/DisneyMoviesAnalysis/blob/main/DisneyRevenuesStreamsAnalysis.ipynb\" target=\"_parent\"><img src=\"https://colab.research.google.com/assets/colab-badge.svg\" alt=\"Open In Colab\"/></a>"
      ]
    },
    {
      "cell_type": "markdown",
      "metadata": {
        "id": "7ShfbnOe7sbI"
      },
      "source": [
        "In this notebook I analyzed the following dataset: \n",
        "\n",
        "https://data.world/kgarrett/disney-character-success-00-16\n",
        "\n",
        "The dataset stores Disney characters, box office success & annual gross income. \n",
        "\n",
        "I made a first work evaluating if the dataset was missing relevant information or if between the three source there was any inconsistency . \n",
        "\n",
        "After this assessment, after I determinated the level of uncertainty related to the missing information, I identified the top 10 best selling films and the top 10 best selling directors and plotted.\n",
        "\n",
        "It is very important to highlight that authors of the dataset do not explain how inflation adjusted gross is computed and which value was used."
      ]
    },
    {
      "cell_type": "code",
      "metadata": {
        "id": "0H5ysUt6PS6e"
      },
      "source": [
        "#importing the libraries \n",
        "import numpy as np\n",
        "import pandas as pd\n",
        "pd.set_option('display.max_columns', 5)\n",
        "import matplotlib.pyplot as plt\n",
        "import matplotlib.ticker as ticker"
      ],
      "execution_count": 1,
      "outputs": []
    },
    {
      "cell_type": "code",
      "metadata": {
        "id": "VCKrFmThPjtr"
      },
      "source": [
        "#the url where the data are located \n",
        "url1=\"https://raw.githubusercontent.com/uomodellamansarda/DisneyMoviesAnalysis/main/disney_revenue_stream2016_2019.csv\"\n",
        "url2=\"https://raw.githubusercontent.com/uomodellamansarda/DisneyMoviesAnalysis/main/disney_revenue_1991-2016.csv\"\n",
        "#disney_corporation_revenue_1991-2016.csv\n",
        "#this dataframe contains movie+tv_network+Parks_Resorts+consumer_product_sales+interactive+videogames\n",
        "#it's important to highlight that in 2015 and 2019 \n",
        "#The Walt Disney Company Reports\n",
        "df1=pd.read_csv(url1)\n",
        "#disney_corporation_revenue_1991-2016.csv\n",
        "#this dataframe contains movie+tv_network+Parks_Resorts+consumer_product_sales+interactive+videogames\n",
        "df2=pd.read_csv(url2)"
      ],
      "execution_count": 2,
      "outputs": []
    },
    {
      "cell_type": "code",
      "metadata": {
        "id": "Z1oz65RCPuqX",
        "colab": {
          "base_uri": "https://localhost:8080/"
        },
        "outputId": "1fa4ad5f-2c93-48f3-ae7d-b4bbbaed02eb"
      },
      "source": [
        "#getting some information to understand \n",
        "#what kind of data cleaning work \n",
        "#I need to do\n",
        "print('df1 info')\n",
        "print(df1.info())\n",
        "print('df2 info')\n",
        "print(df2.info())\n",
        "\n",
        "\n",
        "print('df1 head')\n",
        "print(df1.head())\n",
        "print('df2 head')\n",
        "print(df2.head())"
      ],
      "execution_count": 3,
      "outputs": [
        {
          "output_type": "stream",
          "text": [
            "df1 info\n",
            "<class 'pandas.core.frame.DataFrame'>\n",
            "RangeIndex: 10 entries, 0 to 9\n",
            "Data columns (total 5 columns):\n",
            " #   Column      Non-Null Count  Dtype  \n",
            "---  ------      --------------  -----  \n",
            " 0   Unnamed: 0  10 non-null     object \n",
            " 1   2016        5 non-null      float64\n",
            " 2   2017        5 non-null      float64\n",
            " 3   2018        5 non-null      float64\n",
            " 4   2019        6 non-null      float64\n",
            "dtypes: float64(4), object(1)\n",
            "memory usage: 528.0+ bytes\n",
            "None\n",
            "df2 info\n",
            "<class 'pandas.core.frame.DataFrame'>\n",
            "RangeIndex: 26 entries, 0 to 25\n",
            "Data columns (total 7 columns):\n",
            " #   Column                           Non-Null Count  Dtype  \n",
            "---  ------                           --------------  -----  \n",
            " 0   Year                             26 non-null     int64  \n",
            " 1   Studio Entertainment[NI 1]       25 non-null     float64\n",
            " 2   Disney Consumer Products[NI 2]   24 non-null     float64\n",
            " 3   Disney Interactive[NI 3][Rev 1]  12 non-null     float64\n",
            " 4   Walt Disney Parks and Resorts    26 non-null     float64\n",
            " 5   Disney Media Networks            23 non-null     object \n",
            " 6   Total                            26 non-null     int64  \n",
            "dtypes: float64(4), int64(2), object(1)\n",
            "memory usage: 1.5+ KB\n",
            "None\n",
            "df1 head\n",
            "                              Unnamed: 0     2016     2017     2018     2019\n",
            "0             Studio Entertainment[NI 1]   9441.0   8379.0   9987.0  11127.0\n",
            "1         Disney Consumer Products[NI 2]      NaN      NaN      NaN      NaN\n",
            "2        Disney Interactive[NI 3][Rev 1]      NaN      NaN      NaN      NaN\n",
            "3  Consumer Products & Interactive Media   5528.0   4833.0   4651.0      NaN\n",
            "4          Walt Disney Parks and Resorts  16974.0  18415.0  20296.0      NaN\n",
            "df2 head\n",
            "   Year  Studio Entertainment[NI 1]  ...  Disney Media Networks  Total\n",
            "0  1991                      2593.0  ...                    NaN   6111\n",
            "1  1992                      3115.0  ...                    NaN   7502\n",
            "2  1993                      3673.4  ...                    NaN   8529\n",
            "3  1994                      4793.0  ...                    359  10414\n",
            "4  1995                      6001.5  ...                    414  12525\n",
            "\n",
            "[5 rows x 7 columns]\n",
            "1996  Park and media info\n",
            "   Walt Disney Parks and Resorts  Disney Media Networks\n",
            "5                         4502.0                 4142.0\n",
            "<class 'pandas.core.frame.DataFrame'>\n",
            "Int64Index: 1 entries, 5 to 5\n",
            "Data columns (total 2 columns):\n",
            " #   Column                         Non-Null Count  Dtype  \n",
            "---  ------                         --------------  -----  \n",
            " 0   Walt Disney Parks and Resorts  1 non-null      float64\n",
            " 1   Disney Media Networks          1 non-null      float64\n",
            "dtypes: float64(2)\n",
            "memory usage: 24.0 bytes\n",
            "None\n",
            "<class 'numpy.ndarray'>\n",
            "5    4142.0\n",
            "Name: Disney Media Networks, dtype: float64\n",
            "3\n"
          ],
          "name": "stdout"
        },
        {
          "output_type": "stream",
          "text": [
            "/usr/local/lib/python3.6/dist-packages/ipykernel_launcher.py:15: SettingWithCopyWarning: \n",
            "A value is trying to be set on a copy of a slice from a DataFrame\n",
            "\n",
            "See the caveats in the documentation: https://pandas.pydata.org/pandas-docs/stable/user_guide/indexing.html#returning-a-view-versus-a-copy\n",
            "  from ipykernel import kernelapp as app\n"
          ],
          "name": "stderr"
        }
      ]
    },
    {
      "cell_type": "markdown",
      "metadata": {
        "id": "lfEq3ymR_DGy"
      },
      "source": [
        "From this inspection I noticed that total_gross and inflation_adjusted_gross should be float and not object"
      ]
    },
    {
      "cell_type": "code",
      "metadata": {
        "id": "iMXmDZDbksqb"
      },
      "source": [
        "\n",
        "#after an inspection we saw that we had to strip a comma \n",
        "df2['Disney Media Networks'][df2['Year']==1996]=4142\n",
        "df2['Disney Media Networks']= df2['Disney Media Networks'].replace(',', '')\n",
        "df2['Disney Media Networks']= df2['Disney Media Networks'].astype(float)\n",
        "print(\"1996  Park and media info\")\n",
        "print(df2[[\"Walt Disney Parks and Resorts\", 'Disney Media Networks']][df2['Year']==1996])\n",
        "print(df2[[\"Walt Disney Parks and Resorts\", 'Disney Media Networks']][df2['Year']==1996].info())\n",
        "print(type(df2['Disney Media Networks'][df2['Year']==1996].values))\n",
        "print(df2['Disney Media Networks'][df2['Year']==1996])\n",
        "print(df2['Disney Media Networks'].isna().sum())\n",
        "print(df2)"
      ],
      "execution_count": null,
      "outputs": []
    },
    {
      "cell_type": "code",
      "metadata": {
        "id": "gDtoIHSQ-gts",
        "colab": {
          "base_uri": "https://localhost:8080/"
        },
        "outputId": "514fd4c7-865c-44e0-f3d7-2dd988eec104"
      },
      "source": [
        "#we have to fill the Nan with 0\n",
        "\n",
        "df1=df1.fillna(0)\n",
        "df2=df2.fillna(0)\n",
        "#then we have to transpose the dataframe\n",
        "df1_t=df1.T\n",
        "df2_t=df2.T\n",
        "print(df2_t.head())\n",
        "\n",
        "print('Df1 Transpose Head')\n",
        "print(df1_t)\n",
        "print(df1_t.values[1:])\n",
        "\n",
        "print('Df2 Transpose Head')\n",
        "print(df2_t.head())"
      ],
      "execution_count": 4,
      "outputs": [
        {
          "output_type": "stream",
          "text": [
            "                                     0       1   ...       24       25\n",
            "Year                             1991.0  1992.0  ...   2015.0   2016.0\n",
            "Studio Entertainment[NI 1]       2593.0  3115.0  ...   7366.0   9441.0\n",
            "Disney Consumer Products[NI 2]    724.0  1081.0  ...   4499.0      0.0\n",
            "Disney Interactive[NI 3][Rev 1]     0.0     0.0  ...   1174.0      0.0\n",
            "Walt Disney Parks and Resorts    2794.0  3306.0  ...  16162.0  16974.0\n",
            "\n",
            "[5 rows x 26 columns]\n",
            "Df1 Transpose Head\n",
            "                                     0                               1  ...  \\\n",
            "Unnamed: 0  Studio Entertainment[NI 1]  Disney Consumer Products[NI 2]  ...   \n",
            "2016                              9441                               0  ...   \n",
            "2017                              8379                               0  ...   \n",
            "2018                              9987                               0  ...   \n",
            "2019                             11127                               0  ...   \n",
            "\n",
            "                      8      9  \n",
            "Unnamed: 0  Elimination  Total  \n",
            "2016                  0  55632  \n",
            "2017                  0  55137  \n",
            "2018                  0  59434  \n",
            "2019              -1958  69570  \n",
            "\n",
            "[5 rows x 10 columns]\n",
            "[[9441.0 0.0 0.0 5528.0 16974.0 0.0 23689.0 0.0 0.0 55632.0]\n",
            " [8379.0 0.0 0.0 4833.0 18415.0 0.0 23510.0 0.0 0.0 55137.0]\n",
            " [9987.0 0.0 0.0 4651.0 20296.0 0.0 24296.0 0.0 0.0 59434.0]\n",
            " [11127.0 0.0 0.0 0.0 0.0 26225.0 24827.0 9349.0 -1958.0 69570.0]]\n",
            "Df2 Transpose Head\n",
            "                                     0       1   ...       24       25\n",
            "Year                             1991.0  1992.0  ...   2015.0   2016.0\n",
            "Studio Entertainment[NI 1]       2593.0  3115.0  ...   7366.0   9441.0\n",
            "Disney Consumer Products[NI 2]    724.0  1081.0  ...   4499.0      0.0\n",
            "Disney Interactive[NI 3][Rev 1]     0.0     0.0  ...   1174.0      0.0\n",
            "Walt Disney Parks and Resorts    2794.0  3306.0  ...  16162.0  16974.0\n",
            "\n",
            "[5 rows x 26 columns]\n"
          ],
          "name": "stdout"
        }
      ]
    },
    {
      "cell_type": "code",
      "metadata": {
        "colab": {
          "base_uri": "https://localhost:8080/"
        },
        "id": "VIf5nGqMChwy",
        "outputId": "7a50bed3-8e56-4870-849c-c52434b242df"
      },
      "source": [
        "#we create a new dataframe in order to clean the old one\n",
        "new_index=df1.columns[1:].astype(int)\n",
        "print(new_index)\n",
        "new_columns=df1.iloc[:,0]\n",
        "print(new_columns)\n",
        "df_1_restored=pd.DataFrame(data=df1_t.values[1:],index=new_index,columns=new_columns)\n",
        "df_1_restored = df_1_restored.rename_axis(index='Year',columns='Revenue Stream')\n",
        "print(df_1_restored)"
      ],
      "execution_count": 5,
      "outputs": [
        {
          "output_type": "stream",
          "text": [
            "Int64Index([2016, 2017, 2018, 2019], dtype='int64')\n",
            "0               Studio Entertainment[NI 1]\n",
            "1           Disney Consumer Products[NI 2]\n",
            "2          Disney Interactive[NI 3][Rev 1]\n",
            "3    Consumer Products & Interactive Media\n",
            "4            Walt Disney Parks and Resorts\n",
            "5          Parks, Experiences and Products\n",
            "6                    Disney Media Networks\n",
            "7       Direct-to-Consumer & International\n",
            "8                              Elimination\n",
            "9                                    Total\n",
            "Name: Unnamed: 0, dtype: object\n",
            "Revenue Stream Studio Entertainment[NI 1] Disney Consumer Products[NI 2]  ...  \\\n",
            "Year                                                                      ...   \n",
            "2016                                 9441                              0  ...   \n",
            "2017                                 8379                              0  ...   \n",
            "2018                                 9987                              0  ...   \n",
            "2019                                11127                              0  ...   \n",
            "\n",
            "Revenue Stream Elimination  Total  \n",
            "Year                               \n",
            "2016                     0  55632  \n",
            "2017                     0  55137  \n",
            "2018                     0  59434  \n",
            "2019                 -1958  69570  \n",
            "\n",
            "[4 rows x 10 columns]\n"
          ],
          "name": "stdout"
        }
      ]
    },
    {
      "cell_type": "code",
      "metadata": {
        "colab": {
          "base_uri": "https://localhost:8080/"
        },
        "id": "b_BbUzXXI-Lq",
        "outputId": "7bd446e4-28bd-4979-e6cf-f6f42f71ae63"
      },
      "source": [
        "new_columns=df2.iloc[:,1:].columns\n",
        "new_index=df2.iloc[:-1,0]\n",
        "\n",
        "new_values=df2.values[:-1,1:]\n",
        "print(\"Printing new values\")\n",
        "print(new_values)\n",
        "print(len(new_values))\n",
        "print(new_values.shape)\n",
        "print(\"New Columns Shape\")\n",
        "print(new_columns.shape)\n",
        "print(\"new_index shape\")\n",
        "print(new_index.shape)\n",
        "df_2_restored=pd.DataFrame(data=new_values,columns=new_columns,index=new_index)\n",
        "print(\"Printing Df2 Restored head and info\")\n",
        "print(df_2_restored.tail())\n",
        "print(df_2_restored.info())"
      ],
      "execution_count": 6,
      "outputs": [
        {
          "output_type": "stream",
          "text": [
            "Printing new values\n",
            "[[ 2593.    724.      0.   2794.      0.   6111. ]\n",
            " [ 3115.   1081.      0.   3306.      0.   7502. ]\n",
            " [ 3673.4  1415.1     0.   3440.7     0.   8529. ]\n",
            " [ 4793.   1798.2     0.   3463.6   359.  10414. ]\n",
            " [ 6001.5  2150.      0.   3959.8   414.  12525. ]\n",
            " [    0.      0.      0.   4502.   4142.  18739. ]\n",
            " [ 6981.   3782.    174.   5014.   6522.  22473. ]\n",
            " [ 6849.   3193.    260.   5532.   7142.  22976. ]\n",
            " [ 6548.   3030.    206.   6106.   7512.  23402. ]\n",
            " [ 5994.   2602.    368.   6803.   9615.  25402. ]\n",
            " [ 7004.   2590.      0.   6009.   9569.  25790. ]\n",
            " [ 6465.   2440.      0.   6691.   9733.  25360. ]\n",
            " [ 7364.   2344.      0.   6412.  10941.  27061. ]\n",
            " [ 8713.   2511.      0.   7750.  11778.  30752. ]\n",
            " [ 7587.   2127.      0.   9023.  13207.  31944. ]\n",
            " [ 7529.   2193.      0.   9925.  14368.  34285. ]\n",
            " [ 7491.   2347.      0.  10626.  15046.  35510. ]\n",
            " [ 7348.   2415.    719.  11504.  15857.  37843. ]\n",
            " [ 6136.   2425.    712.  10667.  16209.  36149. ]\n",
            " [ 6701.   2678.    761.  10761.  17162.  38063. ]\n",
            " [ 6351.   3049.    982.  11797.  18714.  40893. ]\n",
            " [ 5825.   3252.    845.  12920.  19436.  42278. ]\n",
            " [ 5979.   3555.   1064.  14087.  20356.  45041. ]\n",
            " [ 7278.   3985.   1299.  15099.  21152.  48813. ]\n",
            " [ 7366.   4499.   1174.  16162.  23264.  52465. ]]\n",
            "25\n",
            "(25, 6)\n",
            "New Columns Shape\n",
            "(6,)\n",
            "new_index shape\n",
            "(25,)\n",
            "Printing Df2 Restored head and info\n",
            "      Studio Entertainment[NI 1]  Disney Consumer Products[NI 2]  ...  \\\n",
            "Year                                                              ...   \n",
            "2011                      6351.0                          3049.0  ...   \n",
            "2012                      5825.0                          3252.0  ...   \n",
            "2013                      5979.0                          3555.0  ...   \n",
            "2014                      7278.0                          3985.0  ...   \n",
            "2015                      7366.0                          4499.0  ...   \n",
            "\n",
            "      Disney Media Networks    Total  \n",
            "Year                                  \n",
            "2011                18714.0  40893.0  \n",
            "2012                19436.0  42278.0  \n",
            "2013                20356.0  45041.0  \n",
            "2014                21152.0  48813.0  \n",
            "2015                23264.0  52465.0  \n",
            "\n",
            "[5 rows x 6 columns]\n",
            "<class 'pandas.core.frame.DataFrame'>\n",
            "Int64Index: 25 entries, 1991 to 2015\n",
            "Data columns (total 6 columns):\n",
            " #   Column                           Non-Null Count  Dtype  \n",
            "---  ------                           --------------  -----  \n",
            " 0   Studio Entertainment[NI 1]       25 non-null     float64\n",
            " 1   Disney Consumer Products[NI 2]   25 non-null     float64\n",
            " 2   Disney Interactive[NI 3][Rev 1]  25 non-null     float64\n",
            " 3   Walt Disney Parks and Resorts    25 non-null     float64\n",
            " 4   Disney Media Networks            25 non-null     float64\n",
            " 5   Total                            25 non-null     float64\n",
            "dtypes: float64(6)\n",
            "memory usage: 1.4 KB\n",
            "None\n"
          ],
          "name": "stdout"
        }
      ]
    },
    {
      "cell_type": "code",
      "metadata": {
        "colab": {
          "base_uri": "https://localhost:8080/"
        },
        "id": "epaqEeNpdXN6",
        "outputId": "d1bf6c27-2bb6-4555-cbab-2daa552abc1c"
      },
      "source": [
        "df_2_restored=df_2_restored.apply(lambda x: pd.to_numeric(x,errors=\"coerce\") if x.dtype == \"object\" else x)\n",
        "print(df_2_restored.head(7))\n",
        "print(df_2_restored.tail())\n",
        "print(df_2_restored.info())\n",
        "print(\"We want to understand why Disney Media Networks is not a number and then change with 0\")\n",
        "print(\"Filtering the object\")\n",
        "df2_filter=df_2_restored[df_2_restored[\"Disney Media Networks\"].isnull()]\n",
        "print(df2_filter)\n",
        "df_2_restored=df_2_restored.fillna(0)\n",
        "print(\"Df2 Restored Info\")\n",
        "print(df_2_restored.info())\n",
        "#we do the same with df_1_restored\n",
        "df_1_restored=df_1_restored.apply(lambda x: pd.to_numeric(x,errors=\"coerce\") if x.dtype == \"object\" else x)\n",
        "df_1_restored=df_1_restored.fillna(0)\n",
        "#understanding df_1_restored and df_2_restored index datatype\n",
        "print(type(df_1_restored.index))\n",
        "print(df_1_restored.index.dtype)\n",
        "print(type(df_2_restored.index))\n",
        "print(df_2_restored.index.dtype)"
      ],
      "execution_count": 7,
      "outputs": [
        {
          "output_type": "stream",
          "text": [
            "      Studio Entertainment[NI 1]  Disney Consumer Products[NI 2]  ...  \\\n",
            "Year                                                              ...   \n",
            "1991                      2593.0                           724.0  ...   \n",
            "1992                      3115.0                          1081.0  ...   \n",
            "1993                      3673.4                          1415.1  ...   \n",
            "1994                      4793.0                          1798.2  ...   \n",
            "1995                      6001.5                          2150.0  ...   \n",
            "1996                         0.0                             0.0  ...   \n",
            "1997                      6981.0                          3782.0  ...   \n",
            "\n",
            "      Disney Media Networks    Total  \n",
            "Year                                  \n",
            "1991                    0.0   6111.0  \n",
            "1992                    0.0   7502.0  \n",
            "1993                    0.0   8529.0  \n",
            "1994                  359.0  10414.0  \n",
            "1995                  414.0  12525.0  \n",
            "1996                 4142.0  18739.0  \n",
            "1997                 6522.0  22473.0  \n",
            "\n",
            "[7 rows x 6 columns]\n",
            "      Studio Entertainment[NI 1]  Disney Consumer Products[NI 2]  ...  \\\n",
            "Year                                                              ...   \n",
            "2011                      6351.0                          3049.0  ...   \n",
            "2012                      5825.0                          3252.0  ...   \n",
            "2013                      5979.0                          3555.0  ...   \n",
            "2014                      7278.0                          3985.0  ...   \n",
            "2015                      7366.0                          4499.0  ...   \n",
            "\n",
            "      Disney Media Networks    Total  \n",
            "Year                                  \n",
            "2011                18714.0  40893.0  \n",
            "2012                19436.0  42278.0  \n",
            "2013                20356.0  45041.0  \n",
            "2014                21152.0  48813.0  \n",
            "2015                23264.0  52465.0  \n",
            "\n",
            "[5 rows x 6 columns]\n",
            "<class 'pandas.core.frame.DataFrame'>\n",
            "Int64Index: 25 entries, 1991 to 2015\n",
            "Data columns (total 6 columns):\n",
            " #   Column                           Non-Null Count  Dtype  \n",
            "---  ------                           --------------  -----  \n",
            " 0   Studio Entertainment[NI 1]       25 non-null     float64\n",
            " 1   Disney Consumer Products[NI 2]   25 non-null     float64\n",
            " 2   Disney Interactive[NI 3][Rev 1]  25 non-null     float64\n",
            " 3   Walt Disney Parks and Resorts    25 non-null     float64\n",
            " 4   Disney Media Networks            25 non-null     float64\n",
            " 5   Total                            25 non-null     float64\n",
            "dtypes: float64(6)\n",
            "memory usage: 1.4 KB\n",
            "None\n",
            "We want to understand why Disney Media Networks is not a number and then change with 0\n",
            "Filtering the object\n",
            "Empty DataFrame\n",
            "Columns: [Studio Entertainment[NI 1], Disney Consumer Products[NI 2], Disney Interactive[NI 3][Rev 1], Walt Disney Parks and Resorts, Disney Media Networks, Total]\n",
            "Index: []\n",
            "\n",
            "[0 rows x 6 columns]\n",
            "Df2 Restored Info\n",
            "<class 'pandas.core.frame.DataFrame'>\n",
            "Int64Index: 25 entries, 1991 to 2015\n",
            "Data columns (total 6 columns):\n",
            " #   Column                           Non-Null Count  Dtype  \n",
            "---  ------                           --------------  -----  \n",
            " 0   Studio Entertainment[NI 1]       25 non-null     float64\n",
            " 1   Disney Consumer Products[NI 2]   25 non-null     float64\n",
            " 2   Disney Interactive[NI 3][Rev 1]  25 non-null     float64\n",
            " 3   Walt Disney Parks and Resorts    25 non-null     float64\n",
            " 4   Disney Media Networks            25 non-null     float64\n",
            " 5   Total                            25 non-null     float64\n",
            "dtypes: float64(6)\n",
            "memory usage: 1.4 KB\n",
            "None\n",
            "<class 'pandas.core.indexes.numeric.Int64Index'>\n",
            "int64\n",
            "<class 'pandas.core.indexes.numeric.Int64Index'>\n",
            "int64\n"
          ],
          "name": "stdout"
        }
      ]
    },
    {
      "cell_type": "code",
      "metadata": {
        "colab": {
          "base_uri": "https://localhost:8080/"
        },
        "id": "khBFb5zbdXHI",
        "outputId": "badc4faa-f4a4-4315-f420-3460b188aeda"
      },
      "source": [
        "df_merge=df_1_restored.merge(df_2_restored, how='outer',right_index=True,left_index=True)\n",
        "print(df_merge.info())\n",
        "print(df_merge.columns)"
      ],
      "execution_count": 8,
      "outputs": [
        {
          "output_type": "stream",
          "text": [
            "<class 'pandas.core.frame.DataFrame'>\n",
            "Int64Index: 29 entries, 1991 to 2019\n",
            "Data columns (total 16 columns):\n",
            " #   Column                                 Non-Null Count  Dtype  \n",
            "---  ------                                 --------------  -----  \n",
            " 0   Studio Entertainment[NI 1]_x           4 non-null      float64\n",
            " 1   Disney Consumer Products[NI 2]_x       4 non-null      float64\n",
            " 2   Disney Interactive[NI 3][Rev 1]_x      4 non-null      float64\n",
            " 3   Consumer Products & Interactive Media  4 non-null      float64\n",
            " 4   Walt Disney Parks and Resorts_x        4 non-null      float64\n",
            " 5   Parks, Experiences and Products        4 non-null      float64\n",
            " 6   Disney Media Networks_x                4 non-null      float64\n",
            " 7   Direct-to-Consumer & International     4 non-null      float64\n",
            " 8   Elimination                            4 non-null      float64\n",
            " 9   Total_x                                4 non-null      float64\n",
            " 10  Studio Entertainment[NI 1]_y           25 non-null     float64\n",
            " 11  Disney Consumer Products[NI 2]_y       25 non-null     float64\n",
            " 12  Disney Interactive[NI 3][Rev 1]_y      25 non-null     float64\n",
            " 13  Walt Disney Parks and Resorts_y        25 non-null     float64\n",
            " 14  Disney Media Networks_y                25 non-null     float64\n",
            " 15  Total_y                                25 non-null     float64\n",
            "dtypes: float64(16)\n",
            "memory usage: 3.9 KB\n",
            "None\n",
            "Index(['Studio Entertainment[NI 1]_x', 'Disney Consumer Products[NI 2]_x',\n",
            "       'Disney Interactive[NI 3][Rev 1]_x',\n",
            "       'Consumer Products & Interactive Media',\n",
            "       'Walt Disney Parks and Resorts_x', 'Parks, Experiences and Products',\n",
            "       'Disney Media Networks_x', 'Direct-to-Consumer & International',\n",
            "       'Elimination', 'Total_x', 'Studio Entertainment[NI 1]_y',\n",
            "       'Disney Consumer Products[NI 2]_y', 'Disney Interactive[NI 3][Rev 1]_y',\n",
            "       'Walt Disney Parks and Resorts_y', 'Disney Media Networks_y',\n",
            "       'Total_y'],\n",
            "      dtype='object')\n"
          ],
          "name": "stdout"
        }
      ]
    },
    {
      "cell_type": "code",
      "metadata": {
        "id": "-vbimL4G9Izg"
      },
      "source": [
        "#second attemp on merging\n",
        "df_merge_2=pd.concat([df_1_restored,df_2_restored])\n"
      ],
      "execution_count": 9,
      "outputs": []
    },
    {
      "cell_type": "code",
      "metadata": {
        "colab": {
          "base_uri": "https://localhost:8080/"
        },
        "id": "IrWHRN219VNY",
        "outputId": "df33e7dd-aaa6-4950-aa02-72c3ea3b666f"
      },
      "source": [
        "print(df_merge_2.tail(12))\n",
        "print(df_merge_2.info())\n"
      ],
      "execution_count": 10,
      "outputs": [
        {
          "output_type": "stream",
          "text": [
            "      Studio Entertainment[NI 1]  Disney Consumer Products[NI 2]  ...  \\\n",
            "Year                                                              ...   \n",
            "2004                      8713.0                          2511.0  ...   \n",
            "2005                      7587.0                          2127.0  ...   \n",
            "2006                      7529.0                          2193.0  ...   \n",
            "2007                      7491.0                          2347.0  ...   \n",
            "2008                      7348.0                          2415.0  ...   \n",
            "2009                      6136.0                          2425.0  ...   \n",
            "2010                      6701.0                          2678.0  ...   \n",
            "2011                      6351.0                          3049.0  ...   \n",
            "2012                      5825.0                          3252.0  ...   \n",
            "2013                      5979.0                          3555.0  ...   \n",
            "2014                      7278.0                          3985.0  ...   \n",
            "2015                      7366.0                          4499.0  ...   \n",
            "\n",
            "      Elimination    Total  \n",
            "Year                        \n",
            "2004          NaN  30752.0  \n",
            "2005          NaN  31944.0  \n",
            "2006          NaN  34285.0  \n",
            "2007          NaN  35510.0  \n",
            "2008          NaN  37843.0  \n",
            "2009          NaN  36149.0  \n",
            "2010          NaN  38063.0  \n",
            "2011          NaN  40893.0  \n",
            "2012          NaN  42278.0  \n",
            "2013          NaN  45041.0  \n",
            "2014          NaN  48813.0  \n",
            "2015          NaN  52465.0  \n",
            "\n",
            "[12 rows x 10 columns]\n",
            "<class 'pandas.core.frame.DataFrame'>\n",
            "Int64Index: 29 entries, 2016 to 2015\n",
            "Data columns (total 10 columns):\n",
            " #   Column                                 Non-Null Count  Dtype  \n",
            "---  ------                                 --------------  -----  \n",
            " 0   Studio Entertainment[NI 1]             29 non-null     float64\n",
            " 1   Disney Consumer Products[NI 2]         29 non-null     float64\n",
            " 2   Disney Interactive[NI 3][Rev 1]        29 non-null     float64\n",
            " 3   Consumer Products & Interactive Media  4 non-null      float64\n",
            " 4   Walt Disney Parks and Resorts          29 non-null     float64\n",
            " 5   Parks, Experiences and Products        4 non-null      float64\n",
            " 6   Disney Media Networks                  29 non-null     float64\n",
            " 7   Direct-to-Consumer & International     4 non-null      float64\n",
            " 8   Elimination                            4 non-null      float64\n",
            " 9   Total                                  29 non-null     float64\n",
            "dtypes: float64(10)\n",
            "memory usage: 2.5 KB\n",
            "None\n"
          ],
          "name": "stdout"
        }
      ]
    },
    {
      "cell_type": "code",
      "metadata": {
        "colab": {
          "base_uri": "https://localhost:8080/",
          "height": 312
        },
        "id": "k7we4PHBR0KS",
        "outputId": "b8c28812-4adf-4185-d2f0-846dae1ce143"
      },
      "source": [
        "df_merge_2['Total'].sort_index().plot(kind='bar')"
      ],
      "execution_count": 11,
      "outputs": [
        {
          "output_type": "execute_result",
          "data": {
            "text/plain": [
              "<matplotlib.axes._subplots.AxesSubplot at 0x7fd77dac89e8>"
            ]
          },
          "metadata": {
            "tags": []
          },
          "execution_count": 11
        },
        {
          "output_type": "display_data",
          "data": {
            "image/png": "[encoded data removed]",
            "text/plain": [
              "<Figure size 432x288 with 1 Axes>"
            ]
          },
          "metadata": {
            "tags": [],
            "needs_background": "light"
          }
        }
      ]
    },
    {
      "cell_type": "code",
      "metadata": {
        "colab": {
          "base_uri": "https://localhost:8080/",
          "height": 334
        },
        "id": "X3t3RRD-aBTI",
        "outputId": "105271ab-cd82-4d53-c369-1139620c0179"
      },
      "source": [
        "x1=20000\n",
        "x2=40000\n",
        "x3=60000\n",
        "y_range=np.arange(1991,2020)\n",
        "y1=np.full(len(y_range),x1)\n",
        "y2=np.full(len(y_range),x2)\n",
        "y3=np.full(len(y_range),x3)\n",
        "print(y_range)\n",
        "fig,ax=plt.subplots()\n",
        "ax.plot(y_range,y1)\n",
        "ax.plot(y_range,y2)\n",
        "ax.plot(y_range,y3)\n",
        "ax.bar(y_range,df_merge_2['Total'].sort_index())"
      ],
      "execution_count": 12,
      "outputs": [
        {
          "output_type": "stream",
          "text": [
            "[1991 1992 1993 1994 1995 1996 1997 1998 1999 2000 2001 2002 2003 2004\n",
            " 2005 2006 2007 2008 2009 2010 2011 2012 2013 2014 2015 2016 2017 2018\n",
            " 2019]\n"
          ],
          "name": "stdout"
        },
        {
          "output_type": "execute_result",
          "data": {
            "text/plain": [
              "<BarContainer object of 29 artists>"
            ]
          },
          "metadata": {
            "tags": []
          },
          "execution_count": 12
        },
        {
          "output_type": "display_data",
          "data": {
            "image/png": "[encoded data removed]",
            "text/plain": [
              "<Figure size 432x288 with 1 Axes>"
            ]
          },
          "metadata": {
            "tags": [],
            "needs_background": "light"
          }
        }
      ]
    },
    {
      "cell_type": "code",
      "metadata": {
        "colab": {
          "base_uri": "https://localhost:8080/"
        },
        "id": "pW_nst9RoOpF",
        "outputId": "0b9b0b97-6d65-44a0-a687-2e74fb5034e1"
      },
      "source": [
        "print(df_merge_2.columns)"
      ],
      "execution_count": 13,
      "outputs": [
        {
          "output_type": "stream",
          "text": [
            "Index(['Studio Entertainment[NI 1]', 'Disney Consumer Products[NI 2]',\n",
            "       'Disney Interactive[NI 3][Rev 1]',\n",
            "       'Consumer Products & Interactive Media',\n",
            "       'Walt Disney Parks and Resorts', 'Parks, Experiences and Products',\n",
            "       'Disney Media Networks', 'Direct-to-Consumer & International',\n",
            "       'Elimination', 'Total'],\n",
            "      dtype='object')\n"
          ],
          "name": "stdout"
        }
      ]
    },
    {
      "cell_type": "code",
      "metadata": {
        "colab": {
          "base_uri": "https://localhost:8080/"
        },
        "id": "-jjpkmcnNs_f",
        "outputId": "9c70406a-c3f6-4e4b-a2a5-e03a7bfc886c"
      },
      "source": [
        "a='Studio Entertainment[NI 1]'\n",
        "b='Walt Disney Parks and Resorts'\n",
        "c='Parks, Experiences and Products'\n",
        "d='Disney Media Networks'\n",
        "relevant_sum=df_merge_2[[a,b,c,d]].sort_index().sum(axis=1)\n",
        "relevant_diff=relevant_sum-df_merge_2['Total']\n",
        "print(type(relevant_sum))\n",
        "print(relevant_sum)\n",
        "print(sum(relevant_diff>0))\n",
        "print(df_merge_2[[a,b,c,d]].loc[1996])"
      ],
      "execution_count": 14,
      "outputs": [
        {
          "output_type": "stream",
          "text": [
            "<class 'pandas.core.series.Series'>\n",
            "Year\n",
            "1991     5387.0\n",
            "1992     6421.0\n",
            "1993     7114.1\n",
            "1994     8615.6\n",
            "1995    10375.3\n",
            "1996     8644.0\n",
            "1997    18517.0\n",
            "1998    19523.0\n",
            "1999    20166.0\n",
            "2000    22412.0\n",
            "2001    22582.0\n",
            "2002    22889.0\n",
            "2003    24717.0\n",
            "2004    28241.0\n",
            "2005    29817.0\n",
            "2006    31822.0\n",
            "2007    33163.0\n",
            "2008    34709.0\n",
            "2009    33012.0\n",
            "2010    34624.0\n",
            "2011    36862.0\n",
            "2012    38181.0\n",
            "2013    40422.0\n",
            "2014    43529.0\n",
            "2015    46792.0\n",
            "2016    50104.0\n",
            "2017    50304.0\n",
            "2018    54579.0\n",
            "2019    62179.0\n",
            "dtype: float64\n",
            "0\n",
            "Studio Entertainment[NI 1]            0.0\n",
            "Walt Disney Parks and Resorts      4502.0\n",
            "Parks, Experiences and Products       NaN\n",
            "Disney Media Networks              4142.0\n",
            "Name: 1996, dtype: float64\n"
          ],
          "name": "stdout"
        }
      ]
    },
    {
      "cell_type": "code",
      "metadata": {
        "colab": {
          "base_uri": "https://localhost:8080/"
        },
        "id": "35IDCj_nO5QJ",
        "outputId": "e4f6a86f-0260-488d-fdc2-a4589ba079f1"
      },
      "source": [
        "df_merge_2.loc[1996]"
      ],
      "execution_count": 15,
      "outputs": [
        {
          "output_type": "execute_result",
          "data": {
            "text/plain": [
              "Studio Entertainment[NI 1]                   0.0\n",
              "Disney Consumer Products[NI 2]               0.0\n",
              "Disney Interactive[NI 3][Rev 1]              0.0\n",
              "Consumer Products & Interactive Media        NaN\n",
              "Walt Disney Parks and Resorts             4502.0\n",
              "Parks, Experiences and Products              NaN\n",
              "Disney Media Networks                     4142.0\n",
              "Direct-to-Consumer & International           NaN\n",
              "Elimination                                  NaN\n",
              "Total                                    18739.0\n",
              "Name: 1996, dtype: float64"
            ]
          },
          "metadata": {
            "tags": []
          },
          "execution_count": 15
        }
      ]
    },
    {
      "cell_type": "code",
      "metadata": {
        "colab": {
          "base_uri": "https://localhost:8080/"
        },
        "id": "CAAhXQNXmwN7",
        "outputId": "b4a79c3e-e24a-477a-a52b-babc5401a16c"
      },
      "source": [
        "\n",
        "\n",
        "df_merge_2=df_merge_2.fillna(0)\n",
        "studio_entert=pd.DataFrame(df_merge_2['Studio Entertainment[NI 1]']).sort_index()\n",
        "park_sum=df_merge_2['Walt Disney Parks and Resorts']+df_merge_2['Parks, Experiences and Products']\n",
        "park_resort=pd.DataFrame(park_sum,columns=['park_resort']).sort_index()\n",
        "disney_media_network=pd.DataFrame(df_merge_2['Disney Media Networks']).sort_index()\n",
        "\n",
        "sub_total=df_merge_2['Studio Entertainment[NI 1]']+df_merge_2['Walt Disney Parks and Resorts']+df_merge_2['Parks, Experiences and Products']+disney_media_network#-df_merge_2['Total']\n",
        "print(sub_total.sum())\n",
        "\n",
        "studio_entert['Total']=df_merge_2['Total']\n",
        "park_resort['Total']=df_merge_2['Total']\n",
        "disney_media_network['Total']=df_merge_2['Total']\n",
        "\n",
        "studio_entert['studio_p']=round(studio_entert['Studio Entertainment[NI 1]']/studio_entert['Total']*100,2)\n",
        "studio_entert['complementary']=100-studio_entert['studio_p']\n",
        "park_resort['park_p']=round(park_resort.iloc[:,0]/park_resort['Total']*100,2)\n",
        "park_resort['complementary']=100-park_resort['park_p']\n",
        "\n",
        "disney_media_network['media_p']=round(disney_media_network.iloc[:,0]/disney_media_network['Total']*100,2)\n",
        "disney_media_network['complementary']=100-disney_media_network['media_p']\n",
        "print(studio_entert.tail())\n",
        "print(park_resort.tail())\n",
        "print(park_resort.head())\n",
        "print(disney_media_network.head())\n",
        "print(disney_media_network.tail())\n",
        "#disney_media_network=park_resort.assign(df_merge_2['Total'])"
      ],
      "execution_count": 16,
      "outputs": [
        {
          "output_type": "stream",
          "text": [
            "1991                     0.0\n",
            "1992                     0.0\n",
            "1993                     0.0\n",
            "1994                     0.0\n",
            "1995                     0.0\n",
            "1996                     0.0\n",
            "1997                     0.0\n",
            "1998                     0.0\n",
            "1999                     0.0\n",
            "2000                     0.0\n",
            "2001                     0.0\n",
            "2002                     0.0\n",
            "2003                     0.0\n",
            "2004                     0.0\n",
            "2005                     0.0\n",
            "2006                     0.0\n",
            "2007                     0.0\n",
            "2008                     0.0\n",
            "2009                     0.0\n",
            "2010                     0.0\n",
            "2011                     0.0\n",
            "2012                     0.0\n",
            "2013                     0.0\n",
            "2014                     0.0\n",
            "2015                     0.0\n",
            "2016                     0.0\n",
            "2017                     0.0\n",
            "2018                     0.0\n",
            "2019                     0.0\n",
            "Disney Media Networks    0.0\n",
            "dtype: float64\n",
            "      Studio Entertainment[NI 1]    Total  studio_p  complementary\n",
            "Year                                                              \n",
            "2015                      7366.0  52465.0     14.04          85.96\n",
            "2016                      9441.0  55632.0     16.97          83.03\n",
            "2017                      8379.0  55137.0     15.20          84.80\n",
            "2018                      9987.0  59434.0     16.80          83.20\n",
            "2019                     11127.0  69570.0     15.99          84.01\n",
            "      park_resort    Total  park_p  complementary\n",
            "Year                                             \n",
            "2015      16162.0  52465.0   30.81          69.19\n",
            "2016      16974.0  55632.0   30.51          69.49\n",
            "2017      18415.0  55137.0   33.40          66.60\n",
            "2018      20296.0  59434.0   34.15          65.85\n",
            "2019      26225.0  69570.0   37.70          62.30\n",
            "      park_resort    Total  park_p  complementary\n",
            "Year                                             \n",
            "1991       2794.0   6111.0   45.72          54.28\n",
            "1992       3306.0   7502.0   44.07          55.93\n",
            "1993       3440.7   8529.0   40.34          59.66\n",
            "1994       3463.6  10414.0   33.26          66.74\n",
            "1995       3959.8  12525.0   31.62          68.38\n",
            "      Disney Media Networks    Total  media_p  complementary\n",
            "Year                                                        \n",
            "1991                    0.0   6111.0     0.00         100.00\n",
            "1992                    0.0   7502.0     0.00         100.00\n",
            "1993                    0.0   8529.0     0.00         100.00\n",
            "1994                  359.0  10414.0     3.45          96.55\n",
            "1995                  414.0  12525.0     3.31          96.69\n",
            "      Disney Media Networks    Total  media_p  complementary\n",
            "Year                                                        \n",
            "2015                23264.0  52465.0    44.34          55.66\n",
            "2016                23689.0  55632.0    42.58          57.42\n",
            "2017                23510.0  55137.0    42.64          57.36\n",
            "2018                24296.0  59434.0    40.88          59.12\n",
            "2019                24827.0  69570.0    35.69          64.31\n"
          ],
          "name": "stdout"
        }
      ]
    },
    {
      "cell_type": "code",
      "metadata": {
        "colab": {
          "base_uri": "https://localhost:8080/",
          "height": 281
        },
        "id": "m4ONZbWfDQMR",
        "outputId": "a658bf09-68c7-4668-dc47-82ed4ce62ee1"
      },
      "source": [
        "labels=studio_entert.index\n",
        "first_stack=studio_entert['studio_p']\n",
        "second_stack=studio_entert['complementary']\n",
        "fig, ax = plt.subplots()\n",
        "\n",
        "ax.bar(labels, first_stack, label='Studio %')\n",
        "ax.bar(labels, second_stack,  color='grey', bottom=first_stack,\n",
        "       label='complementary')\n",
        "\n",
        "ax.set_ylabel('Scores')\n",
        "ax.set_title('Scores by group and gender')\n",
        "ax.legend()\n",
        "\n",
        "plt.show()\n"
      ],
      "execution_count": 17,
      "outputs": [
        {
          "output_type": "display_data",
          "data": {
            "image/png": "[encoded data removed]",
            "text/plain": [
              "<Figure size 432x288 with 1 Axes>"
            ]
          },
          "metadata": {
            "tags": [],
            "needs_background": "light"
          }
        }
      ]
    },
    {
      "cell_type": "code",
      "metadata": {
        "colab": {
          "base_uri": "https://localhost:8080/",
          "height": 281
        },
        "id": "RZcmBhb8HBOV",
        "outputId": "5cac7dce-453b-4695-aa77-d9d754a29d43"
      },
      "source": [
        "labels=park_resort['park_p'].index\n",
        "first_stack=park_resort['park_p']\n",
        "second_stack=park_resort['complementary']\n",
        "fig, ax = plt.subplots()\n",
        "\n",
        "ax.bar(labels, first_stack, label='Park %')\n",
        "ax.bar(labels, second_stack,  color='grey', bottom=first_stack,\n",
        "       label='complementary')\n",
        "\n",
        "ax.set_ylabel('Scores')\n",
        "ax.set_title('Scores by group and gender')\n",
        "ax.legend()\n",
        "\n",
        "plt.show()"
      ],
      "execution_count": 18,
      "outputs": [
        {
          "output_type": "display_data",
          "data": {
            "image/png": "[encoded data removed]",
            "text/plain": [
              "<Figure size 432x288 with 1 Axes>"
            ]
          },
          "metadata": {
            "tags": [],
            "needs_background": "light"
          }
        }
      ]
    },
    {
      "cell_type": "code",
      "metadata": {
        "colab": {
          "base_uri": "https://localhost:8080/",
          "height": 816
        },
        "id": "8qLOfbQdHBHn",
        "outputId": "81af52a0-82c8-4ffa-89ae-d489b0e15e71"
      },
      "source": [
        "labels=disney_media_network.index\n",
        "first_stack=disney_media_network['media_p']\n",
        "second_stack=disney_media_network['complementary']\n",
        "fig, ax = plt.subplots()\n",
        "\n",
        "ax.bar(labels, first_stack, label='Disney Media %')\n",
        "ax.bar(labels, second_stack,  color='grey', bottom=first_stack,\n",
        "       label='complementary')\n",
        "\n",
        "ax.set_ylabel('Scores')\n",
        "ax.set_title('Scores by group and gender')\n",
        "ax.legend()\n",
        "\n",
        "plt.show()\n",
        "print(disney_media_network)"
      ],
      "execution_count": 19,
      "outputs": [
        {
          "output_type": "display_data",
          "data": {
            "image/png": "[encoded data removed]",
            "text/plain": [
              "<Figure size 432x288 with 1 Axes>"
            ]
          },
          "metadata": {
            "tags": [],
            "needs_background": "light"
          }
        },
        {
          "output_type": "stream",
          "text": [
            "      Disney Media Networks    Total  media_p  complementary\n",
            "Year                                                        \n",
            "1991                    0.0   6111.0     0.00         100.00\n",
            "1992                    0.0   7502.0     0.00         100.00\n",
            "1993                    0.0   8529.0     0.00         100.00\n",
            "1994                  359.0  10414.0     3.45          96.55\n",
            "1995                  414.0  12525.0     3.31          96.69\n",
            "1996                 4142.0  18739.0    22.10          77.90\n",
            "1997                 6522.0  22473.0    29.02          70.98\n",
            "1998                 7142.0  22976.0    31.08          68.92\n",
            "1999                 7512.0  23402.0    32.10          67.90\n",
            "2000                 9615.0  25402.0    37.85          62.15\n",
            "2001                 9569.0  25790.0    37.10          62.90\n",
            "2002                 9733.0  25360.0    38.38          61.62\n",
            "2003                10941.0  27061.0    40.43          59.57\n",
            "2004                11778.0  30752.0    38.30          61.70\n",
            "2005                13207.0  31944.0    41.34          58.66\n",
            "2006                14368.0  34285.0    41.91          58.09\n",
            "2007                15046.0  35510.0    42.37          57.63\n",
            "2008                15857.0  37843.0    41.90          58.10\n",
            "2009                16209.0  36149.0    44.84          55.16\n",
            "2010                17162.0  38063.0    45.09          54.91\n",
            "2011                18714.0  40893.0    45.76          54.24\n",
            "2012                19436.0  42278.0    45.97          54.03\n",
            "2013                20356.0  45041.0    45.19          54.81\n",
            "2014                21152.0  48813.0    43.33          56.67\n",
            "2015                23264.0  52465.0    44.34          55.66\n",
            "2016                23689.0  55632.0    42.58          57.42\n",
            "2017                23510.0  55137.0    42.64          57.36\n",
            "2018                24296.0  59434.0    40.88          59.12\n",
            "2019                24827.0  69570.0    35.69          64.31\n"
          ],
          "name": "stdout"
        }
      ]
    }
  ]
}