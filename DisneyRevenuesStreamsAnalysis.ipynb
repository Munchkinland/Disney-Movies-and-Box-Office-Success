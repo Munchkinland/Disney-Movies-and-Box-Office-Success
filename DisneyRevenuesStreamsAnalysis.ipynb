{
  "nbformat": 4,
  "nbformat_minor": 0,
  "metadata": {
    "colab": {
      "name": "DisneyRevenuesStreamsAnalysis.ipynb",
      "provenance": [],
      "collapsed_sections": [],
      "authorship_tag": "ABX9TyNuEGoI0L6E4MWM6Vm3K5q1",
      "include_colab_link": true
    },
    "kernelspec": {
      "name": "python3",
      "display_name": "Python 3"
    }
  },
  "cells": [
    {
      "cell_type": "markdown",
      "metadata": {
        "id": "view-in-github",
        "colab_type": "text"
      },
      "source": [
        "<a href=\"https://colab.research.google.com/github/uomodellamansarda/DisneyMoviesAnalysis/blob/main/DisneyRevenuesStreamsAnalysis.ipynb\" target=\"_parent\"><img src=\"https://colab.research.google.com/assets/colab-badge.svg\" alt=\"Open In Colab\"/></a>"
      ]
    },
    {
      "cell_type": "markdown",
      "metadata": {
        "id": "7ShfbnOe7sbI"
      },
      "source": [
        "In this notebook I analyzed the following dataset: \n",
        "\n",
        "https://data.world/kgarrett/disney-character-success-00-16\n",
        "\n",
        "The dataset stores Disney characters, box office success & annual gross income. \n",
        "\n",
        "I made a first work evaluating if the dataset was missing relevant information or if between the three source there was any inconsistency . \n",
        "\n",
        "After this assessment, after I determinated the level of uncertainty related to the missing information, I identified the top 10 best selling films and the top 10 best selling directors and plotted.\n",
        "\n",
        "It is very important to highlight that authors of the dataset do not explain how inflation adjusted gross is computed and which value was used."
      ]
    },
    {
      "cell_type": "code",
      "metadata": {
        "id": "0H5ysUt6PS6e"
      },
      "source": [
        "#importing the libraries \n",
        "import numpy as np\n",
        "import pandas as pd\n",
        "pd.set_option('display.max_columns', 5)\n",
        "import matplotlib.pyplot as plt\n",
        "import matplotlib.ticker as ticker"
      ],
      "execution_count": 1,
      "outputs": []
    },
    {
      "cell_type": "code",
      "metadata": {
        "id": "VCKrFmThPjtr"
      },
      "source": [
        "#the url where the data are located \n",
        "url1=\"https://raw.githubusercontent.com/uomodellamansarda/DisneyMoviesAnalysis/main/disney_revenue_stream2016_2019.csv\"\n",
        "url2=\"https://raw.githubusercontent.com/uomodellamansarda/DisneyMoviesAnalysis/main/disney_revenue_1991-2016.csv\"\n",
        "#disney_corporation_revenue_1991-2016.csv\n",
        "#this dataframe contains movie+tv_network+Parks_Resorts+consumer_product_sales+interactive+videogames\n",
        "#it's important to highlight that in 2015 and 2019 \n",
        "#The Walt Disney Company Reports\n",
        "df1=pd.read_csv(url1)\n",
        "#disney_corporation_revenue_1991-2016.csv\n",
        "#this dataframe contains movie+tv_network+Parks_Resorts+consumer_product_sales+interactive+videogames\n",
        "df2=pd.read_csv(url2)"
      ],
      "execution_count": 2,
      "outputs": []
    },
    {
      "cell_type": "code",
      "metadata": {
        "id": "Z1oz65RCPuqX",
        "colab": {
          "base_uri": "https://localhost:8080/"
        },
        "outputId": "58c5c6fe-e9b1-4ce9-c47c-e4a51c42e62d"
      },
      "source": [
        "#getting some information to understand \n",
        "#what kind of data cleaning work \n",
        "#I need to do\n",
        "print('df1 info')\n",
        "print(df1.info())\n",
        "print('df2 info')\n",
        "print(df2.info())\n",
        "\n",
        "\n",
        "print('df1 head')\n",
        "print(df1.head())\n",
        "print('df2 head')\n",
        "print(df2.head())\n"
      ],
      "execution_count": 3,
      "outputs": [
        {
          "output_type": "stream",
          "text": [
            "df1 info\n",
            "<class 'pandas.core.frame.DataFrame'>\n",
            "RangeIndex: 10 entries, 0 to 9\n",
            "Data columns (total 5 columns):\n",
            " #   Column      Non-Null Count  Dtype  \n",
            "---  ------      --------------  -----  \n",
            " 0   Unnamed: 0  10 non-null     object \n",
            " 1   2016        5 non-null      float64\n",
            " 2   2017        5 non-null      float64\n",
            " 3   2018        5 non-null      float64\n",
            " 4   2019        6 non-null      float64\n",
            "dtypes: float64(4), object(1)\n",
            "memory usage: 528.0+ bytes\n",
            "None\n",
            "df2 info\n",
            "<class 'pandas.core.frame.DataFrame'>\n",
            "RangeIndex: 26 entries, 0 to 25\n",
            "Data columns (total 7 columns):\n",
            " #   Column                           Non-Null Count  Dtype  \n",
            "---  ------                           --------------  -----  \n",
            " 0   Year                             26 non-null     int64  \n",
            " 1   Studio Entertainment[NI 1]       25 non-null     float64\n",
            " 2   Disney Consumer Products[NI 2]   24 non-null     float64\n",
            " 3   Disney Interactive[NI 3][Rev 1]  12 non-null     float64\n",
            " 4   Walt Disney Parks and Resorts    26 non-null     float64\n",
            " 5   Disney Media Networks            23 non-null     object \n",
            " 6   Total                            26 non-null     int64  \n",
            "dtypes: float64(4), int64(2), object(1)\n",
            "memory usage: 1.5+ KB\n",
            "None\n",
            "df1 head\n",
            "                              Unnamed: 0     2016     2017     2018     2019\n",
            "0             Studio Entertainment[NI 1]   9441.0   8379.0   9987.0  11127.0\n",
            "1         Disney Consumer Products[NI 2]      NaN      NaN      NaN      NaN\n",
            "2        Disney Interactive[NI 3][Rev 1]      NaN      NaN      NaN      NaN\n",
            "3  Consumer Products & Interactive Media   5528.0   4833.0   4651.0      NaN\n",
            "4          Walt Disney Parks and Resorts  16974.0  18415.0  20296.0      NaN\n",
            "df2 head\n",
            "   Year  Studio Entertainment[NI 1]  ...  Disney Media Networks  Total\n",
            "0  1991                      2593.0  ...                    NaN   6111\n",
            "1  1992                      3115.0  ...                    NaN   7502\n",
            "2  1993                      3673.4  ...                    NaN   8529\n",
            "3  1994                      4793.0  ...                    359  10414\n",
            "4  1995                      6001.5  ...                    414  12525\n",
            "\n",
            "[5 rows x 7 columns]\n"
          ],
          "name": "stdout"
        }
      ]
    },
    {
      "cell_type": "markdown",
      "metadata": {
        "id": "lfEq3ymR_DGy"
      },
      "source": [
        "From this inspection I noticed that total_gross and inflation_adjusted_gross should be float and not object"
      ]
    },
    {
      "cell_type": "code",
      "metadata": {
        "id": "gDtoIHSQ-gts",
        "colab": {
          "base_uri": "https://localhost:8080/"
        },
        "outputId": "b438ae87-3bdf-4664-f7fe-afebc32414de"
      },
      "source": [
        "#we have to fill the Nan with 0\n",
        "\n",
        "df1=df1.fillna(0)\n",
        "df2=df2.fillna(0)\n",
        "#then we have to transpose the dataframe\n",
        "df1_t=df1.T\n",
        "df2_t=df2.T\n",
        "print(df2_t.head())\n",
        "\n",
        "print('Df1 Transpose Head')\n",
        "print(df1_t)\n",
        "print(df1_t.values[1:])\n",
        "\n",
        "print('Df2 Transpose Head')\n",
        "print(df2_t.head())"
      ],
      "execution_count": 4,
      "outputs": [
        {
          "output_type": "stream",
          "text": [
            "                                   0     1   ...     24     25\n",
            "Year                             1991  1992  ...   2015   2016\n",
            "Studio Entertainment[NI 1]       2593  3115  ...   7366   9441\n",
            "Disney Consumer Products[NI 2]    724  1081  ...   4499      0\n",
            "Disney Interactive[NI 3][Rev 1]     0     0  ...   1174      0\n",
            "Walt Disney Parks and Resorts    2794  3306  ...  16162  16974\n",
            "\n",
            "[5 rows x 26 columns]\n",
            "Df1 Transpose Head\n",
            "                                     0                               1  ...  \\\n",
            "Unnamed: 0  Studio Entertainment[NI 1]  Disney Consumer Products[NI 2]  ...   \n",
            "2016                              9441                               0  ...   \n",
            "2017                              8379                               0  ...   \n",
            "2018                              9987                               0  ...   \n",
            "2019                             11127                               0  ...   \n",
            "\n",
            "                      8      9  \n",
            "Unnamed: 0  Elimination  Total  \n",
            "2016                  0  55632  \n",
            "2017                  0  55137  \n",
            "2018                  0  59434  \n",
            "2019              -1958  69570  \n",
            "\n",
            "[5 rows x 10 columns]\n",
            "[[9441.0 0.0 0.0 5528.0 16974.0 0.0 23689.0 0.0 0.0 55632.0]\n",
            " [8379.0 0.0 0.0 4833.0 18415.0 0.0 23510.0 0.0 0.0 55137.0]\n",
            " [9987.0 0.0 0.0 4651.0 20296.0 0.0 24296.0 0.0 0.0 59434.0]\n",
            " [11127.0 0.0 0.0 0.0 0.0 26225.0 24827.0 9349.0 -1958.0 69570.0]]\n",
            "Df2 Transpose Head\n",
            "                                   0     1   ...     24     25\n",
            "Year                             1991  1992  ...   2015   2016\n",
            "Studio Entertainment[NI 1]       2593  3115  ...   7366   9441\n",
            "Disney Consumer Products[NI 2]    724  1081  ...   4499      0\n",
            "Disney Interactive[NI 3][Rev 1]     0     0  ...   1174      0\n",
            "Walt Disney Parks and Resorts    2794  3306  ...  16162  16974\n",
            "\n",
            "[5 rows x 26 columns]\n"
          ],
          "name": "stdout"
        }
      ]
    },
    {
      "cell_type": "code",
      "metadata": {
        "colab": {
          "base_uri": "https://localhost:8080/"
        },
        "id": "VIf5nGqMChwy",
        "outputId": "4d3daf48-8c8d-4d99-b2c8-6a3c97678488"
      },
      "source": [
        "#we create a new dataframe in order to clean the old one\n",
        "new_index=df1.columns[1:].astype(int)\n",
        "print(new_index)\n",
        "new_columns=df1.iloc[:,0]\n",
        "print(new_columns)\n",
        "df_1_restored=pd.DataFrame(data=df1_t.values[1:],index=new_index,columns=new_columns)\n",
        "df_1_restored = df_1_restored.rename_axis(index='Year',columns='Revenue Stream')\n",
        "print(df_1_restored)"
      ],
      "execution_count": 5,
      "outputs": [
        {
          "output_type": "stream",
          "text": [
            "Int64Index([2016, 2017, 2018, 2019], dtype='int64')\n",
            "0               Studio Entertainment[NI 1]\n",
            "1           Disney Consumer Products[NI 2]\n",
            "2          Disney Interactive[NI 3][Rev 1]\n",
            "3    Consumer Products & Interactive Media\n",
            "4            Walt Disney Parks and Resorts\n",
            "5          Parks, Experiences and Products\n",
            "6                    Disney Media Networks\n",
            "7       Direct-to-Consumer & International\n",
            "8                              Elimination\n",
            "9                                    Total\n",
            "Name: Unnamed: 0, dtype: object\n",
            "Revenue Stream Studio Entertainment[NI 1] Disney Consumer Products[NI 2]  ...  \\\n",
            "Year                                                                      ...   \n",
            "2016                                 9441                              0  ...   \n",
            "2017                                 8379                              0  ...   \n",
            "2018                                 9987                              0  ...   \n",
            "2019                                11127                              0  ...   \n",
            "\n",
            "Revenue Stream Elimination  Total  \n",
            "Year                               \n",
            "2016                     0  55632  \n",
            "2017                     0  55137  \n",
            "2018                     0  59434  \n",
            "2019                 -1958  69570  \n",
            "\n",
            "[4 rows x 10 columns]\n"
          ],
          "name": "stdout"
        }
      ]
    },
    {
      "cell_type": "code",
      "metadata": {
        "colab": {
          "base_uri": "https://localhost:8080/"
        },
        "id": "b_BbUzXXI-Lq",
        "outputId": "4baf43be-80fa-4596-f809-aae86deddbc9"
      },
      "source": [
        "new_columns=df2.iloc[:,1:].columns\n",
        "new_index=df2.iloc[:-1,0]\n",
        "\n",
        "new_values=df2.values[:-1,1:]\n",
        "print(\"Printing new values\")\n",
        "print(new_values)\n",
        "print(len(new_values))\n",
        "print(new_values.shape)\n",
        "print(\"New Columns Shape\")\n",
        "print(new_columns.shape)\n",
        "print(\"new_index shape\")\n",
        "print(new_index.shape)\n",
        "df_2_restored=pd.DataFrame(data=new_values,columns=new_columns,index=new_index)\n",
        "print(\"Printing Df2 Restored head and info\")\n",
        "print(df_2_restored.tail())\n",
        "print(df_2_restored.info())"
      ],
      "execution_count": 6,
      "outputs": [
        {
          "output_type": "stream",
          "text": [
            "Printing new values\n",
            "[[2593.0 724.0 0.0 2794.0 0 6111]\n",
            " [3115.0 1081.0 0.0 3306.0 0 7502]\n",
            " [3673.4 1415.1 0.0 3440.7 0 8529]\n",
            " [4793.0 1798.2 0.0 3463.6 '359' 10414]\n",
            " [6001.5 2150.0 0.0 3959.8 '414' 12525]\n",
            " [0.0 0.0 0.0 4502.0 '4,142' 18739]\n",
            " [6981.0 3782.0 174.0 5014.0 '6522' 22473]\n",
            " [6849.0 3193.0 260.0 5532.0 '7142' 22976]\n",
            " [6548.0 3030.0 206.0 6106.0 '7512' 23402]\n",
            " [5994.0 2602.0 368.0 6803.0 '9615' 25402]\n",
            " [7004.0 2590.0 0.0 6009.0 '9569' 25790]\n",
            " [6465.0 2440.0 0.0 6691.0 '9733' 25360]\n",
            " [7364.0 2344.0 0.0 6412.0 '10941' 27061]\n",
            " [8713.0 2511.0 0.0 7750.0 '11778' 30752]\n",
            " [7587.0 2127.0 0.0 9023.0 '13207' 31944]\n",
            " [7529.0 2193.0 0.0 9925.0 '14368' 34285]\n",
            " [7491.0 2347.0 0.0 10626.0 '15046' 35510]\n",
            " [7348.0 2415.0 719.0 11504.0 '15857' 37843]\n",
            " [6136.0 2425.0 712.0 10667.0 '16209' 36149]\n",
            " [6701.0 2678.0 761.0 10761.0 '17162' 38063]\n",
            " [6351.0 3049.0 982.0 11797.0 '18714' 40893]\n",
            " [5825.0 3252.0 845.0 12920.0 '19436' 42278]\n",
            " [5979.0 3555.0 1064.0 14087.0 '20356' 45041]\n",
            " [7278.0 3985.0 1299.0 15099.0 '21152' 48813]\n",
            " [7366.0 4499.0 1174.0 16162.0 '23264' 52465]]\n",
            "25\n",
            "(25, 6)\n",
            "New Columns Shape\n",
            "(6,)\n",
            "new_index shape\n",
            "(25,)\n",
            "Printing Df2 Restored head and info\n",
            "     Studio Entertainment[NI 1] Disney Consumer Products[NI 2]  ...  \\\n",
            "Year                                                            ...   \n",
            "2011                       6351                           3049  ...   \n",
            "2012                       5825                           3252  ...   \n",
            "2013                       5979                           3555  ...   \n",
            "2014                       7278                           3985  ...   \n",
            "2015                       7366                           4499  ...   \n",
            "\n",
            "     Disney Media Networks  Total  \n",
            "Year                               \n",
            "2011                 18714  40893  \n",
            "2012                 19436  42278  \n",
            "2013                 20356  45041  \n",
            "2014                 21152  48813  \n",
            "2015                 23264  52465  \n",
            "\n",
            "[5 rows x 6 columns]\n",
            "<class 'pandas.core.frame.DataFrame'>\n",
            "Int64Index: 25 entries, 1991 to 2015\n",
            "Data columns (total 6 columns):\n",
            " #   Column                           Non-Null Count  Dtype \n",
            "---  ------                           --------------  ----- \n",
            " 0   Studio Entertainment[NI 1]       25 non-null     object\n",
            " 1   Disney Consumer Products[NI 2]   25 non-null     object\n",
            " 2   Disney Interactive[NI 3][Rev 1]  25 non-null     object\n",
            " 3   Walt Disney Parks and Resorts    25 non-null     object\n",
            " 4   Disney Media Networks            25 non-null     object\n",
            " 5   Total                            25 non-null     object\n",
            "dtypes: object(6)\n",
            "memory usage: 1.4+ KB\n",
            "None\n"
          ],
          "name": "stdout"
        }
      ]
    },
    {
      "cell_type": "code",
      "metadata": {
        "colab": {
          "base_uri": "https://localhost:8080/"
        },
        "id": "epaqEeNpdXN6",
        "outputId": "a5489646-f848-488f-be57-eae7915bc07a"
      },
      "source": [
        "df_2_restored=df_2_restored.apply(lambda x: pd.to_numeric(x,errors=\"coerce\") if x.dtype == \"object\" else x)\n",
        "print(df_2_restored.head())\n",
        "print(df_2_restored.tail())\n",
        "print(df_2_restored.info())\n",
        "print(\"We want to understand why Disney Media Networks is not a number and then change with 0\")\n",
        "print(\"Filtering the object\")\n",
        "df2_filter=df_2_restored[df_2_restored[\"Disney Media Networks\"].isnull()]\n",
        "print(df2_filter)\n",
        "df_2_restored=df_2_restored.fillna(0)\n",
        "print(\"Df2 Restored Info\")\n",
        "print(df_2_restored.info())\n",
        "#we do the same with df_1_restored\n",
        "df_1_restored=df_1_restored.apply(lambda x: pd.to_numeric(x,errors=\"coerce\") if x.dtype == \"object\" else x)\n",
        "df_1_restored=df_1_restored.fillna(0)\n",
        "#understanding df_1_restored and df_2_restored index datatype\n",
        "print(type(df_1_restored.index))\n",
        "print(df_1_restored.index.dtype)\n",
        "print(type(df_2_restored.index))\n",
        "print(df_2_restored.index.dtype)"
      ],
      "execution_count": 7,
      "outputs": [
        {
          "output_type": "stream",
          "text": [
            "      Studio Entertainment[NI 1]  Disney Consumer Products[NI 2]  ...  \\\n",
            "Year                                                              ...   \n",
            "1991                      2593.0                           724.0  ...   \n",
            "1992                      3115.0                          1081.0  ...   \n",
            "1993                      3673.4                          1415.1  ...   \n",
            "1994                      4793.0                          1798.2  ...   \n",
            "1995                      6001.5                          2150.0  ...   \n",
            "\n",
            "      Disney Media Networks  Total  \n",
            "Year                                \n",
            "1991                    0.0   6111  \n",
            "1992                    0.0   7502  \n",
            "1993                    0.0   8529  \n",
            "1994                  359.0  10414  \n",
            "1995                  414.0  12525  \n",
            "\n",
            "[5 rows x 6 columns]\n",
            "      Studio Entertainment[NI 1]  Disney Consumer Products[NI 2]  ...  \\\n",
            "Year                                                              ...   \n",
            "2011                      6351.0                          3049.0  ...   \n",
            "2012                      5825.0                          3252.0  ...   \n",
            "2013                      5979.0                          3555.0  ...   \n",
            "2014                      7278.0                          3985.0  ...   \n",
            "2015                      7366.0                          4499.0  ...   \n",
            "\n",
            "      Disney Media Networks  Total  \n",
            "Year                                \n",
            "2011                18714.0  40893  \n",
            "2012                19436.0  42278  \n",
            "2013                20356.0  45041  \n",
            "2014                21152.0  48813  \n",
            "2015                23264.0  52465  \n",
            "\n",
            "[5 rows x 6 columns]\n",
            "<class 'pandas.core.frame.DataFrame'>\n",
            "Int64Index: 25 entries, 1991 to 2015\n",
            "Data columns (total 6 columns):\n",
            " #   Column                           Non-Null Count  Dtype  \n",
            "---  ------                           --------------  -----  \n",
            " 0   Studio Entertainment[NI 1]       25 non-null     float64\n",
            " 1   Disney Consumer Products[NI 2]   25 non-null     float64\n",
            " 2   Disney Interactive[NI 3][Rev 1]  25 non-null     float64\n",
            " 3   Walt Disney Parks and Resorts    25 non-null     float64\n",
            " 4   Disney Media Networks            24 non-null     float64\n",
            " 5   Total                            25 non-null     int64  \n",
            "dtypes: float64(5), int64(1)\n",
            "memory usage: 1.4 KB\n",
            "None\n",
            "We want to understand why Disney Media Networks is not a number and then change with 0\n",
            "Filtering the object\n",
            "      Studio Entertainment[NI 1]  Disney Consumer Products[NI 2]  ...  \\\n",
            "Year                                                              ...   \n",
            "1996                         0.0                             0.0  ...   \n",
            "\n",
            "      Disney Media Networks  Total  \n",
            "Year                                \n",
            "1996                    NaN  18739  \n",
            "\n",
            "[1 rows x 6 columns]\n",
            "Df2 Restored Info\n",
            "<class 'pandas.core.frame.DataFrame'>\n",
            "Int64Index: 25 entries, 1991 to 2015\n",
            "Data columns (total 6 columns):\n",
            " #   Column                           Non-Null Count  Dtype  \n",
            "---  ------                           --------------  -----  \n",
            " 0   Studio Entertainment[NI 1]       25 non-null     float64\n",
            " 1   Disney Consumer Products[NI 2]   25 non-null     float64\n",
            " 2   Disney Interactive[NI 3][Rev 1]  25 non-null     float64\n",
            " 3   Walt Disney Parks and Resorts    25 non-null     float64\n",
            " 4   Disney Media Networks            25 non-null     float64\n",
            " 5   Total                            25 non-null     int64  \n",
            "dtypes: float64(5), int64(1)\n",
            "memory usage: 1.4 KB\n",
            "None\n",
            "<class 'pandas.core.indexes.numeric.Int64Index'>\n",
            "int64\n",
            "<class 'pandas.core.indexes.numeric.Int64Index'>\n",
            "int64\n"
          ],
          "name": "stdout"
        }
      ]
    },
    {
      "cell_type": "code",
      "metadata": {
        "colab": {
          "base_uri": "https://localhost:8080/"
        },
        "id": "khBFb5zbdXHI",
        "outputId": "e9a059ba-8983-4cdf-befb-5f76a88397bb"
      },
      "source": [
        "df_merge=df_1_restored.merge(df_2_restored, how='outer',right_index=True,left_index=True)\n",
        "print(df_merge.info())\n",
        "print(df_merge.columns)"
      ],
      "execution_count": 8,
      "outputs": [
        {
          "output_type": "stream",
          "text": [
            "<class 'pandas.core.frame.DataFrame'>\n",
            "Int64Index: 29 entries, 1991 to 2019\n",
            "Data columns (total 16 columns):\n",
            " #   Column                                 Non-Null Count  Dtype  \n",
            "---  ------                                 --------------  -----  \n",
            " 0   Studio Entertainment[NI 1]_x           4 non-null      float64\n",
            " 1   Disney Consumer Products[NI 2]_x       4 non-null      float64\n",
            " 2   Disney Interactive[NI 3][Rev 1]_x      4 non-null      float64\n",
            " 3   Consumer Products & Interactive Media  4 non-null      float64\n",
            " 4   Walt Disney Parks and Resorts_x        4 non-null      float64\n",
            " 5   Parks, Experiences and Products        4 non-null      float64\n",
            " 6   Disney Media Networks_x                4 non-null      float64\n",
            " 7   Direct-to-Consumer & International     4 non-null      float64\n",
            " 8   Elimination                            4 non-null      float64\n",
            " 9   Total_x                                4 non-null      float64\n",
            " 10  Studio Entertainment[NI 1]_y           25 non-null     float64\n",
            " 11  Disney Consumer Products[NI 2]_y       25 non-null     float64\n",
            " 12  Disney Interactive[NI 3][Rev 1]_y      25 non-null     float64\n",
            " 13  Walt Disney Parks and Resorts_y        25 non-null     float64\n",
            " 14  Disney Media Networks_y                25 non-null     float64\n",
            " 15  Total_y                                25 non-null     float64\n",
            "dtypes: float64(16)\n",
            "memory usage: 3.9 KB\n",
            "None\n",
            "Index(['Studio Entertainment[NI 1]_x', 'Disney Consumer Products[NI 2]_x',\n",
            "       'Disney Interactive[NI 3][Rev 1]_x',\n",
            "       'Consumer Products & Interactive Media',\n",
            "       'Walt Disney Parks and Resorts_x', 'Parks, Experiences and Products',\n",
            "       'Disney Media Networks_x', 'Direct-to-Consumer & International',\n",
            "       'Elimination', 'Total_x', 'Studio Entertainment[NI 1]_y',\n",
            "       'Disney Consumer Products[NI 2]_y', 'Disney Interactive[NI 3][Rev 1]_y',\n",
            "       'Walt Disney Parks and Resorts_y', 'Disney Media Networks_y',\n",
            "       'Total_y'],\n",
            "      dtype='object')\n"
          ],
          "name": "stdout"
        }
      ]
    },
    {
      "cell_type": "code",
      "metadata": {
        "id": "-vbimL4G9Izg"
      },
      "source": [
        "#second attemp on merging\n",
        "df_merge_2=pd.concat([df_1_restored,df_2_restored])\n"
      ],
      "execution_count": 9,
      "outputs": []
    },
    {
      "cell_type": "code",
      "metadata": {
        "colab": {
          "base_uri": "https://localhost:8080/"
        },
        "id": "IrWHRN219VNY",
        "outputId": "6018a68a-82e3-497a-c53f-75fa14e251f0"
      },
      "source": [
        "print(df_merge_2.tail(12))\n",
        "print(df_merge_2.info())\n"
      ],
      "execution_count": 10,
      "outputs": [
        {
          "output_type": "stream",
          "text": [
            "      Studio Entertainment[NI 1]  Disney Consumer Products[NI 2]  ...  \\\n",
            "Year                                                              ...   \n",
            "2004                      8713.0                          2511.0  ...   \n",
            "2005                      7587.0                          2127.0  ...   \n",
            "2006                      7529.0                          2193.0  ...   \n",
            "2007                      7491.0                          2347.0  ...   \n",
            "2008                      7348.0                          2415.0  ...   \n",
            "2009                      6136.0                          2425.0  ...   \n",
            "2010                      6701.0                          2678.0  ...   \n",
            "2011                      6351.0                          3049.0  ...   \n",
            "2012                      5825.0                          3252.0  ...   \n",
            "2013                      5979.0                          3555.0  ...   \n",
            "2014                      7278.0                          3985.0  ...   \n",
            "2015                      7366.0                          4499.0  ...   \n",
            "\n",
            "      Elimination    Total  \n",
            "Year                        \n",
            "2004          NaN  30752.0  \n",
            "2005          NaN  31944.0  \n",
            "2006          NaN  34285.0  \n",
            "2007          NaN  35510.0  \n",
            "2008          NaN  37843.0  \n",
            "2009          NaN  36149.0  \n",
            "2010          NaN  38063.0  \n",
            "2011          NaN  40893.0  \n",
            "2012          NaN  42278.0  \n",
            "2013          NaN  45041.0  \n",
            "2014          NaN  48813.0  \n",
            "2015          NaN  52465.0  \n",
            "\n",
            "[12 rows x 10 columns]\n",
            "<class 'pandas.core.frame.DataFrame'>\n",
            "Int64Index: 29 entries, 2016 to 2015\n",
            "Data columns (total 10 columns):\n",
            " #   Column                                 Non-Null Count  Dtype  \n",
            "---  ------                                 --------------  -----  \n",
            " 0   Studio Entertainment[NI 1]             29 non-null     float64\n",
            " 1   Disney Consumer Products[NI 2]         29 non-null     float64\n",
            " 2   Disney Interactive[NI 3][Rev 1]        29 non-null     float64\n",
            " 3   Consumer Products & Interactive Media  4 non-null      float64\n",
            " 4   Walt Disney Parks and Resorts          29 non-null     float64\n",
            " 5   Parks, Experiences and Products        4 non-null      float64\n",
            " 6   Disney Media Networks                  29 non-null     float64\n",
            " 7   Direct-to-Consumer & International     4 non-null      float64\n",
            " 8   Elimination                            4 non-null      float64\n",
            " 9   Total                                  29 non-null     float64\n",
            "dtypes: float64(10)\n",
            "memory usage: 2.5 KB\n",
            "None\n"
          ],
          "name": "stdout"
        }
      ]
    },
    {
      "cell_type": "code",
      "metadata": {
        "colab": {
          "base_uri": "https://localhost:8080/",
          "height": 312
        },
        "id": "k7we4PHBR0KS",
        "outputId": "130dc516-46b9-4310-b2a3-b0413e0c417e"
      },
      "source": [
        "df_merge_2['Total'].sort_index().plot(kind='bar')"
      ],
      "execution_count": 11,
      "outputs": [
        {
          "output_type": "execute_result",
          "data": {
            "text/plain": [
              "<matplotlib.axes._subplots.AxesSubplot at 0x7f2aa0719160>"
            ]
          },
          "metadata": {
            "tags": []
          },
          "execution_count": 11
        },
        {
          "output_type": "display_data",
          "data": {
            "image/png": "[encoded data removed]",
            "text/plain": [
              "<Figure size 432x288 with 1 Axes>"
            ]
          },
          "metadata": {
            "tags": [],
            "needs_background": "light"
          }
        }
      ]
    },
    {
      "cell_type": "code",
      "metadata": {
        "colab": {
          "base_uri": "https://localhost:8080/",
          "height": 334
        },
        "id": "X3t3RRD-aBTI",
        "outputId": "0112f1e2-e2e2-4561-e989-65ef3d512c7b"
      },
      "source": [
        "x1=20000\n",
        "x2=40000\n",
        "x3=60000\n",
        "y_range=np.arange(1991,2020)\n",
        "y1=np.full(len(y_range),x1)\n",
        "y2=np.full(len(y_range),x2)\n",
        "y3=np.full(len(y_range),x3)\n",
        "print(y_range)\n",
        "fig,ax=plt.subplots()\n",
        "ax.plot(y_range,y1)\n",
        "ax.plot(y_range,y2)\n",
        "ax.plot(y_range,y3)\n",
        "ax.bar(y_range,df_merge_2['Total'].sort_index())"
      ],
      "execution_count": 12,
      "outputs": [
        {
          "output_type": "stream",
          "text": [
            "[1991 1992 1993 1994 1995 1996 1997 1998 1999 2000 2001 2002 2003 2004\n",
            " 2005 2006 2007 2008 2009 2010 2011 2012 2013 2014 2015 2016 2017 2018\n",
            " 2019]\n"
          ],
          "name": "stdout"
        },
        {
          "output_type": "execute_result",
          "data": {
            "text/plain": [
              "<BarContainer object of 29 artists>"
            ]
          },
          "metadata": {
            "tags": []
          },
          "execution_count": 12
        },
        {
          "output_type": "display_data",
          "data": {
            "image/png": "[encoded data removed]",
            "text/plain": [
              "<Figure size 432x288 with 1 Axes>"
            ]
          },
          "metadata": {
            "tags": [],
            "needs_background": "light"
          }
        }
      ]
    },
    {
      "cell_type": "code",
      "metadata": {
        "colab": {
          "base_uri": "https://localhost:8080/"
        },
        "id": "pW_nst9RoOpF",
        "outputId": "88fc2629-7dc2-4027-d7bb-414eea3df745"
      },
      "source": [
        "print(df_merge_2.columns)"
      ],
      "execution_count": 13,
      "outputs": [
        {
          "output_type": "stream",
          "text": [
            "Index(['Studio Entertainment[NI 1]', 'Disney Consumer Products[NI 2]',\n",
            "       'Disney Interactive[NI 3][Rev 1]',\n",
            "       'Consumer Products & Interactive Media',\n",
            "       'Walt Disney Parks and Resorts', 'Parks, Experiences and Products',\n",
            "       'Disney Media Networks', 'Direct-to-Consumer & International',\n",
            "       'Elimination', 'Total'],\n",
            "      dtype='object')\n"
          ],
          "name": "stdout"
        }
      ]
    },
    {
      "cell_type": "code",
      "metadata": {
        "colab": {
          "base_uri": "https://localhost:8080/"
        },
        "id": "CAAhXQNXmwN7",
        "outputId": "827ed526-039a-468d-be24-749e4f802ed2"
      },
      "source": [
        "df_merge_2=df_merge_2.fillna(0)\n",
        "studio_entert=pd.DataFrame(df_merge_2['Studio Entertainment[NI 1]']).sort_index()\n",
        "park_sum=df_merge_2['Walt Disney Parks and Resorts']+df_merge_2['Parks, Experiences and Products']\n",
        "park_resort=pd.DataFrame(park_sum,columns=['park_resort']).sort_index()\n",
        "\n",
        "disney_media_network=pd.DataFrame(df_merge_2['Disney Media Networks']).sort_index()\n",
        "\n",
        "studio_entert['Total']=df_merge_2['Total']\n",
        "park_resort['Total']=df_merge_2['Total']\n",
        "disney_media_network['Total']=df_merge_2['Total']\n",
        "\n",
        "studio_entert['studio_p']=round(studio_entert['Studio Entertainment[NI 1]']/studio_entert['Total']*100,2)\n",
        "studio_entert['complementary']=100-studio_entert['studio_p']\n",
        "park_resort['park_p']=round(park_resort.iloc[:,0]/park_resort['Total']*100,2)\n",
        "park_resort['complementary']=100-park_resort['park_p']\n",
        "\n",
        "disney_media_network['media_p']=round(disney_media_network.iloc[:,0]/disney_media_network['Total']*100,2)\n",
        "disney_media_network['complementary']=100-disney_media_network['media_p']\n",
        "print(studio_entert.tail())\n",
        "print(park_resort.tail())\n",
        "print(park_resort.head())\n",
        "print(disney_media_network.head())\n",
        "print(disney_media_network.tail())\n",
        "#disney_media_network=park_resort.assign(df_merge_2['Total'])"
      ],
      "execution_count": 25,
      "outputs": [
        {
          "output_type": "stream",
          "text": [
            "      Studio Entertainment[NI 1]    Total  studio_p  complementary\n",
            "Year                                                              \n",
            "2015                      7366.0  52465.0     14.04          85.96\n",
            "2016                      9441.0  55632.0     16.97          83.03\n",
            "2017                      8379.0  55137.0     15.20          84.80\n",
            "2018                      9987.0  59434.0     16.80          83.20\n",
            "2019                     11127.0  69570.0     15.99          84.01\n",
            "      park_resort    Total  park_p  complementary\n",
            "Year                                             \n",
            "2015      16162.0  52465.0   30.81          69.19\n",
            "2016      16974.0  55632.0   30.51          69.49\n",
            "2017      18415.0  55137.0   33.40          66.60\n",
            "2018      20296.0  59434.0   34.15          65.85\n",
            "2019      26225.0  69570.0   37.70          62.30\n",
            "      park_resort    Total  park_p  complementary\n",
            "Year                                             \n",
            "1991       2794.0   6111.0   45.72          54.28\n",
            "1992       3306.0   7502.0   44.07          55.93\n",
            "1993       3440.7   8529.0   40.34          59.66\n",
            "1994       3463.6  10414.0   33.26          66.74\n",
            "1995       3959.8  12525.0   31.62          68.38\n",
            "      Disney Media Networks    Total  media_p  complementary\n",
            "Year                                                        \n",
            "1991                    0.0   6111.0     0.00         100.00\n",
            "1992                    0.0   7502.0     0.00         100.00\n",
            "1993                    0.0   8529.0     0.00         100.00\n",
            "1994                  359.0  10414.0     3.45          96.55\n",
            "1995                  414.0  12525.0     3.31          96.69\n",
            "      Disney Media Networks    Total  media_p  complementary\n",
            "Year                                                        \n",
            "2015                23264.0  52465.0    44.34          55.66\n",
            "2016                23689.0  55632.0    42.58          57.42\n",
            "2017                23510.0  55137.0    42.64          57.36\n",
            "2018                24296.0  59434.0    40.88          59.12\n",
            "2019                24827.0  69570.0    35.69          64.31\n"
          ],
          "name": "stdout"
        }
      ]
    }
  ]
}