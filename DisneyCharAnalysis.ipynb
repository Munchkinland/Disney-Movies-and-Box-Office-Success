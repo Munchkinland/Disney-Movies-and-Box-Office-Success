{
  "nbformat": 4,
  "nbformat_minor": 0,
  "metadata": {
    "colab": {
      "name": "DisneyCharAnalysis.ipynb",
      "provenance": [],
      "collapsed_sections": [],
      "authorship_tag": "ABX9TyP2dreA5gl4rK6eQR+ZBLiM",
      "include_colab_link": true
    },
    "kernelspec": {
      "name": "python3",
      "display_name": "Python 3"
    }
  },
  "cells": [
    {
      "cell_type": "markdown",
      "metadata": {
        "id": "view-in-github",
        "colab_type": "text"
      },
      "source": [
        "<a href=\"https://colab.research.google.com/github/uomodellamansarda/DisneyMoviesAnalysis/blob/main/DisneyCharAnalysis.ipynb\" target=\"_parent\"><img src=\"https://colab.research.google.com/assets/colab-badge.svg\" alt=\"Open In Colab\"/></a>"
      ]
    },
    {
      "cell_type": "markdown",
      "metadata": {
        "id": "NXc5DfARRsmb"
      },
      "source": [
        "Disney data compiled by <a href=\"https://data.world/kgarrett/disney-character-success-00-16\">Kelly Garrett</a>. The data contains 579 Disney movies with six features: movie title, release date, genre, MPAA rating, total gross, and inflation-adjusted gross. </p>"
      ]
    },
    {
      "cell_type": "code",
      "metadata": {
        "id": "4xsFeZGBQk0N",
        "outputId": "4b1107f9-b202-4164-8646-7df09873a431",
        "colab": {
          "base_uri": "https://localhost:8080/",
          "height": 440
        }
      },
      "source": [
        "#Url for the dataset\n",
        "url=\"https://raw.githubusercontent.com/uomodellamansarda/DisneyMoviesAnalysis/main/disney_movies_total_gross.csv\"\n",
        "#importing all the libraries we are going to use\n",
        "import pandas as pd\n",
        "import seaborn as sns\n",
        "from sklearn.linear_model import LinearRegression\n",
        "import numpy as np\n",
        "import matplotlib.pyplot as plt \n",
        "#removing scientific notation\n",
        "np.set_printoptions(suppress=True)\n",
        "pd.options.display.float_format = '{:20,.2f}'.format\n",
        "#creating the DataFrame \n",
        "df=pd.read_csv(url)\n",
        "print(df.info())\n",
        "#converting the release date to datetime\n",
        "df['release_date'] = df['release_date'].apply(pd.to_datetime)\n",
        "#sorting the movies by Revenues\n",
        "df=df.sort_values(by=\"inflation_adjusted_gross\",ascending=False)\n",
        "df.head()"
      ],
      "execution_count": 72,
      "outputs": [
        {
          "output_type": "stream",
          "text": [
            "<class 'pandas.core.frame.DataFrame'>\n",
            "RangeIndex: 579 entries, 0 to 578\n",
            "Data columns (total 6 columns):\n",
            " #   Column                    Non-Null Count  Dtype \n",
            "---  ------                    --------------  ----- \n",
            " 0   movie_title               579 non-null    object\n",
            " 1   release_date              579 non-null    object\n",
            " 2   genre                     562 non-null    object\n",
            " 3   mpaa_rating               523 non-null    object\n",
            " 4   total_gross               579 non-null    int64 \n",
            " 5   inflation_adjusted_gross  579 non-null    int64 \n",
            "dtypes: int64(2), object(4)\n",
            "memory usage: 27.3+ KB\n",
            "None\n"
          ],
          "name": "stdout"
        },
        {
          "output_type": "execute_result",
          "data": {
            "text/html": [
              "<div>\n",
              "<style scoped>\n",
              "    .dataframe tbody tr th:only-of-type {\n",
              "        vertical-align: middle;\n",
              "    }\n",
              "\n",
              "    .dataframe tbody tr th {\n",
              "        vertical-align: top;\n",
              "    }\n",
              "\n",
              "    .dataframe thead th {\n",
              "        text-align: right;\n",
              "    }\n",
              "</style>\n",
              "<table border=\"1\" class=\"dataframe\">\n",
              "  <thead>\n",
              "    <tr style=\"text-align: right;\">\n",
              "      <th></th>\n",
              "      <th>movie_title</th>\n",
              "      <th>release_date</th>\n",
              "      <th>genre</th>\n",
              "      <th>mpaa_rating</th>\n",
              "      <th>total_gross</th>\n",
              "      <th>inflation_adjusted_gross</th>\n",
              "    </tr>\n",
              "  </thead>\n",
              "  <tbody>\n",
              "    <tr>\n",
              "      <th>0</th>\n",
              "      <td>Snow White and the Seven Dwarfs</td>\n",
              "      <td>1937-12-21</td>\n",
              "      <td>Musical</td>\n",
              "      <td>G</td>\n",
              "      <td>184925485</td>\n",
              "      <td>5228953251</td>\n",
              "    </tr>\n",
              "    <tr>\n",
              "      <th>1</th>\n",
              "      <td>Pinocchio</td>\n",
              "      <td>1940-02-09</td>\n",
              "      <td>Adventure</td>\n",
              "      <td>G</td>\n",
              "      <td>84300000</td>\n",
              "      <td>2188229052</td>\n",
              "    </tr>\n",
              "    <tr>\n",
              "      <th>2</th>\n",
              "      <td>Fantasia</td>\n",
              "      <td>1940-11-13</td>\n",
              "      <td>Musical</td>\n",
              "      <td>G</td>\n",
              "      <td>83320000</td>\n",
              "      <td>2187090808</td>\n",
              "    </tr>\n",
              "    <tr>\n",
              "      <th>8</th>\n",
              "      <td>101 Dalmatians</td>\n",
              "      <td>1961-01-25</td>\n",
              "      <td>Comedy</td>\n",
              "      <td>G</td>\n",
              "      <td>153000000</td>\n",
              "      <td>1362870985</td>\n",
              "    </tr>\n",
              "    <tr>\n",
              "      <th>6</th>\n",
              "      <td>Lady and the Tramp</td>\n",
              "      <td>1955-06-22</td>\n",
              "      <td>Drama</td>\n",
              "      <td>G</td>\n",
              "      <td>93600000</td>\n",
              "      <td>1236035515</td>\n",
              "    </tr>\n",
              "  </tbody>\n",
              "</table>\n",
              "</div>"
            ],
            "text/plain": [
              "                       movie_title  ... inflation_adjusted_gross\n",
              "0  Snow White and the Seven Dwarfs  ...               5228953251\n",
              "1                        Pinocchio  ...               2188229052\n",
              "2                         Fantasia  ...               2187090808\n",
              "8                   101 Dalmatians  ...               1362870985\n",
              "6               Lady and the Tramp  ...               1236035515\n",
              "\n",
              "[5 rows x 6 columns]"
            ]
          },
          "metadata": {
            "tags": []
          },
          "execution_count": 72
        }
      ]
    },
    {
      "cell_type": "code",
      "metadata": {
        "id": "T-NU27IHRsIn",
        "outputId": "8d0677f2-b6a3-4826-ef88-f6e5d1b2f360",
        "colab": {
          "base_uri": "https://localhost:8080/"
        }
      },
      "source": [
        "# We get the year and create a specific column \n",
        "df['release_year'] = pd.DatetimeIndex(df['release_date']).year\n",
        "pd.options.display.float_format = '{:20,.2f}'.format\n",
        "#It's interesting to group the movies by genre and release year\n",
        "#and calculate the mean \n",
        "df_grouped = df.groupby(['genre','release_year']).mean()\n",
        "df_genre = df.groupby(['genre']).mean()\n",
        "df_genre_reset=df_genre.reset_index()\n",
        "print(\"Genre Info: \\n\",df_genre)\n",
        "print(\"Genre Reset Info: \\n\",df_genre_reset)\n",
        "# We convert the GroupBy object to a DataFrame\n",
        "genre_yearly = df_grouped.reset_index()\n",
        "\n",
        "# Inspecting genre_yearly \n",
        "genre_yearly.head(10)\n",
        "print(genre_yearly.info())\n",
        "print(df.info())"
      ],
      "execution_count": 73,
      "outputs": [
        {
          "output_type": "stream",
          "text": [
            "Genre Info: \n",
            "                              total_gross  ...         release_year\n",
            "genre                                     ...                     \n",
            "Action                    104,614,082.05  ...             1,999.42\n",
            "Adventure                 127,047,050.02  ...             2,001.43\n",
            "Black Comedy               32,514,404.00  ...             1,998.67\n",
            "Comedy                     44,613,294.93  ...             1,996.01\n",
            "Concert/Performance        51,728,233.00  ...             2,008.50\n",
            "Documentary                11,292,851.19  ...             2,008.94\n",
            "Drama                      36,026,078.68  ...             1,997.57\n",
            "Horror                     14,511,478.67  ...             1,997.17\n",
            "Musical                    72,330,259.69  ...             1,984.31\n",
            "Romantic Comedy            50,095,950.22  ...             1,998.74\n",
            "Thriller/Suspense          58,616,938.29  ...             1,999.96\n",
            "Western                    51,287,351.29  ...             2,001.71\n",
            "\n",
            "[12 rows x 3 columns]\n",
            "Genre Reset Info: \n",
            "                   genre  ...         release_year\n",
            "0                Action  ...             1,999.42\n",
            "1             Adventure  ...             2,001.43\n",
            "2          Black Comedy  ...             1,998.67\n",
            "3                Comedy  ...             1,996.01\n",
            "4   Concert/Performance  ...             2,008.50\n",
            "5           Documentary  ...             2,008.94\n",
            "6                 Drama  ...             1,997.57\n",
            "7                Horror  ...             1,997.17\n",
            "8               Musical  ...             1,984.31\n",
            "9       Romantic Comedy  ...             1,998.74\n",
            "10    Thriller/Suspense  ...             1,999.96\n",
            "11              Western  ...             2,001.71\n",
            "\n",
            "[12 rows x 4 columns]\n",
            "<class 'pandas.core.frame.DataFrame'>\n",
            "RangeIndex: 218 entries, 0 to 217\n",
            "Data columns (total 4 columns):\n",
            " #   Column                    Non-Null Count  Dtype  \n",
            "---  ------                    --------------  -----  \n",
            " 0   genre                     218 non-null    object \n",
            " 1   release_year              218 non-null    int64  \n",
            " 2   total_gross               218 non-null    float64\n",
            " 3   inflation_adjusted_gross  218 non-null    float64\n",
            "dtypes: float64(2), int64(1), object(1)\n",
            "memory usage: 6.9+ KB\n",
            "None\n",
            "<class 'pandas.core.frame.DataFrame'>\n",
            "Int64Index: 579 entries, 0 to 29\n",
            "Data columns (total 7 columns):\n",
            " #   Column                    Non-Null Count  Dtype         \n",
            "---  ------                    --------------  -----         \n",
            " 0   movie_title               579 non-null    object        \n",
            " 1   release_date              579 non-null    datetime64[ns]\n",
            " 2   genre                     562 non-null    object        \n",
            " 3   mpaa_rating               523 non-null    object        \n",
            " 4   total_gross               579 non-null    int64         \n",
            " 5   inflation_adjusted_gross  579 non-null    int64         \n",
            " 6   release_year              579 non-null    int64         \n",
            "dtypes: datetime64[ns](1), int64(3), object(3)\n",
            "memory usage: 36.2+ KB\n",
            "None\n"
          ],
          "name": "stdout"
        }
      ]
    },
    {
      "cell_type": "markdown",
      "metadata": {
        "id": "eooFoaUuT6_0"
      },
      "source": [
        "## Visualize the genre popularity trend\n",
        "<p>We will make a plot out of these means of groups to better see how box office revenues have changed over time.</p>"
      ]
    },
    {
      "cell_type": "code",
      "metadata": {
        "id": "0zBxjnaMTwSO",
        "outputId": "5d8f9c23-abf7-446c-cb92-6fa990768f8f",
        "colab": {
          "base_uri": "https://localhost:8080/",
          "height": 382
        }
      },
      "source": [
        "sns.relplot(data=genre_yearly,x='release_year',y='inflation_adjusted_gross',kind='line',hue='genre')\n",
        "sns.set(context='notebook', style='whitegrid', palette='deep', font='sans-serif', font_scale=1, color_codes=False, rc=None)"
      ],
      "execution_count": 74,
      "outputs": [
        {
          "output_type": "display_data",
          "data": {
            "image/png": "[encoded data removed]",
            "text/plain": [
              "<Figure size 517.1x360 with 1 Axes>"
            ]
          },
          "metadata": {
            "tags": []
          }
        }
      ]
    },
    {
      "cell_type": "code",
      "metadata": {
        "id": "TLW4Xo55vXcM",
        "outputId": "40b35858-b0fe-4ceb-d303-5799e7063c02",
        "colab": {
          "base_uri": "https://localhost:8080/",
          "height": 386
        }
      },
      "source": [
        "plt.scatter(df_genre_reset['genre'],df_genre_reset['inflation_adjusted_gross'])\n",
        "plt.xticks(rotation='vertical')\n",
        "plt.show()"
      ],
      "execution_count": 75,
      "outputs": [
        {
          "output_type": "display_data",
          "data": {
            "image/png": "[encoded data removed]",
            "text/plain": [
              "<Figure size 432x288 with 1 Axes>"
            ]
          },
          "metadata": {
            "tags": []
          }
        }
      ]
    },
    {
      "cell_type": "markdown",
      "metadata": {
        "id": "c8Kc37wUUHV8"
      },
      "source": [
        "## Data transformation\n",
        "<p>The line plot supports our belief that some genres are growing faster in popularity than others. For Disney movies, Action and Adventure genres are growing the fastest. Next, we will build a linear regression model to understand the relationship between genre and box office gross. </p>\n",
        "<p>Since linear regression requires numerical variables and the genre variable is a categorical variable, we'll use a technique called one-hot encoding to convert the categorical variables to numerical. This technique transforms each category value into a new column and assigns a 1 or 0 to the column. </p>\n",
        "<p>For this dataset, there will be 11 dummy variables, one for each genre except the action genre which we will use as a baseline. For example, if a movie is an adventure movie, like The Lion King, the adventure variable will be 1 and other dummy variables will be 0. Since the action genre is our baseline, if a movie is an action movie, such as The Avengers, all dummy variables will be 0.</p>"
      ]
    },
    {
      "cell_type": "code",
      "metadata": {
        "id": "ReRnmGvFUKG5",
        "outputId": "4594cc8e-2211-4ff0-e27d-1ab9883889e2",
        "colab": {
          "base_uri": "https://localhost:8080/",
          "height": 832
        }
      },
      "source": [
        "# Convert genre variable to dummy variables \n",
        "genre_dummies = pd.get_dummies(df['genre'],drop_first=True)\n",
        "\n",
        "#Inspect genre_dummies\n",
        "genre_dummies.head()\n",
        "genre_dummies.info()\n",
        "print(df[\"inflation_adjusted_gross\"])\n",
        "x1=np.arange(0,len(df_grouped))\n",
        "y=df_grouped[\"total_gross\"].sort_values(ascending=False)\n",
        "print(len(x1))\n",
        "print(len(y))\n",
        "plt.scatter(x1,y)\n",
        "plt.show()"
      ],
      "execution_count": 76,
      "outputs": [
        {
          "output_type": "stream",
          "text": [
            "<class 'pandas.core.frame.DataFrame'>\n",
            "Int64Index: 579 entries, 0 to 29\n",
            "Data columns (total 11 columns):\n",
            " #   Column               Non-Null Count  Dtype\n",
            "---  ------               --------------  -----\n",
            " 0   Adventure            579 non-null    uint8\n",
            " 1   Black Comedy         579 non-null    uint8\n",
            " 2   Comedy               579 non-null    uint8\n",
            " 3   Concert/Performance  579 non-null    uint8\n",
            " 4   Documentary          579 non-null    uint8\n",
            " 5   Drama                579 non-null    uint8\n",
            " 6   Horror               579 non-null    uint8\n",
            " 7   Musical              579 non-null    uint8\n",
            " 8   Romantic Comedy      579 non-null    uint8\n",
            " 9   Thriller/Suspense    579 non-null    uint8\n",
            " 10  Western              579 non-null    uint8\n",
            "dtypes: uint8(11)\n",
            "memory usage: 10.7 KB\n",
            "0      5228953251\n",
            "1      2188229052\n",
            "2      2187090808\n",
            "8      1362870985\n",
            "6      1236035515\n",
            "          ...    \n",
            "511          2984\n",
            "27              0\n",
            "20              0\n",
            "355             0\n",
            "29              0\n",
            "Name: inflation_adjusted_gross, Length: 579, dtype: int64\n",
            "218\n",
            "218\n"
          ],
          "name": "stdout"
        },
        {
          "output_type": "display_data",
          "data": {
            "image/png": "[encoded data removed]",
            "text/plain": [
              "<Figure size 432x288 with 1 Axes>"
            ]
          },
          "metadata": {
            "tags": []
          }
        }
      ]
    },
    {
      "cell_type": "markdown",
      "metadata": {
        "id": "c3AByWlvU6sB"
      },
      "source": [
        "## The genre effect\n",
        "<p>Now that we have dummy variables, we can build a linear regression model to predict the adjusted gross using these dummy variables.</p>\n",
        "<p>From the regression model, we can check the effect of each genre by looking at its coefficient given in units of box office gross dollars. We will focus on the impact of action and adventure genres here. (Note that the intercept and the first coefficient values represent the effect of action and adventure genres respectively). We expect that movies like the Lion King or Star Wars would perform better for box office.</p>"
      ]
    },
    {
      "cell_type": "code",
      "metadata": {
        "id": "ZVsgbT2nU6Om",
        "outputId": "10ba0aa7-22fe-4380-cc91-26ff65351abb",
        "colab": {
          "base_uri": "https://localhost:8080/"
        }
      },
      "source": [
        "# Import LinearRegression\n",
        "# Build a linear regression model\n",
        "regr = LinearRegression()\n",
        "\n",
        "# Fit regr to the dataset\n",
        "regr.fit(genre_dummies,df['inflation_adjusted_gross'])\n",
        "\n",
        "# Get estimated intercept and coefficient values \n",
        "action =  regr.intercept_\n",
        "adventure = regr.coef_[[0]][0]\n",
        "\n",
        "# Inspect the estimated intercept and coefficient values \n",
        "print((action, adventure))"
      ],
      "execution_count": 77,
      "outputs": [
        {
          "output_type": "stream",
          "text": [
            "(102921757.36842026, 87475654.70909917)\n"
          ],
          "name": "stdout"
        }
      ]
    },
    {
      "cell_type": "markdown",
      "metadata": {
        "id": "q1jZCTZoVCMP"
      },
      "source": [
        "## Confidence intervals for regression parameters  (i)\n",
        "<p>Next, we will compute 95% confidence intervals for the intercept and coefficients. The 95% confidence intervals for the intercept  <b><i>a</i></b> and coefficient <b><i>b<sub>i</sub></i></b> \n",
        "\n",
        "Note: Confidence Interval is a type of estimate computed from the statistics of the observed data. \n",
        "This proposes a range of plausible values for an unknown parameters. \n",
        "\n",
        "Neyman, who introduced the confidence interval, a 95% confidence level does not mean that for a given realized interval there is a 95% probability that the population parameter lies within the interval. \n",
        "<p>\n",
        "According to the frequentistic interpretation, once an interval is calculated this interval either covers the parameter value or it does not\n",
        "</p> \n",
        "<i><b>The 95% probability relates to the reliability of the estimation procedure </b> </i>\n",
        "\n",
        "<p>We will calculate the confidence intervals using the pairs bootstrap method. </p>"
      ]
    },
    {
      "cell_type": "code",
      "metadata": {
        "id": "NWCFqeP1VBWz"
      },
      "source": [
        "\n",
        "# Create an array of indices to sample from \n",
        "inds = np.arange(0,len(df['genre']))\n",
        "\n",
        "# Initialize 500 replicate arrays\n",
        "size = 500\n",
        "bs_action_reps =  np.empty(size)\n",
        "bs_adventure_reps =  np.empty(size)"
      ],
      "execution_count": 78,
      "outputs": []
    },
    {
      "cell_type": "markdown",
      "metadata": {
        "id": "dm4OAYEkVdSE"
      },
      "source": [
        "## Confidence intervals for regression parameters  (ii)\n",
        "<p>After the initialization, we will perform pair bootstrap estimates for the regression parameters. Note that we will draw a sample from a set of (genre, adjusted gross) data where the genre is the original genre variable. We will perform one-hot encoding after that. </p>"
      ]
    },
    {
      "cell_type": "code",
      "metadata": {
        "id": "PsXspUz5VdoA",
        "outputId": "ae3cf5a1-8f07-42b7-b47a-4f9e5544a319",
        "colab": {
          "base_uri": "https://localhost:8080/"
        }
      },
      "source": [
        "# Generate replicates  \n",
        "print(df.info())\n",
        "\n",
        "for i in range(size):\n",
        "    \n",
        "    # Resample the indices \n",
        "    bs_inds = np.random.choice(inds,size=len(inds))\n",
        "    \n",
        "    # Get the sampled genre and sampled adjusted gross\n",
        "    bs_genre = df['genre'][bs_inds] \n",
        "    bs_gross = df['inflation_adjusted_gross'][bs_inds]\n",
        "    \n",
        "    # Convert sampled genre to dummy variables\n",
        "    bs_dummies = pd.get_dummies(bs_genre,drop_first=True)\n",
        "   \n",
        "    # Build and fit a regression model \n",
        "    regr = LinearRegression().fit(bs_dummies, bs_gross)\n",
        "    \n",
        "    # Compute replicates of estimated intercept and coefficient\n",
        "    bs_action_reps[i] = regr.intercept_\n",
        "    bs_adventure_reps[i] = regr.coef_[[0]][0]"
      ],
      "execution_count": 79,
      "outputs": [
        {
          "output_type": "stream",
          "text": [
            "<class 'pandas.core.frame.DataFrame'>\n",
            "Int64Index: 579 entries, 0 to 29\n",
            "Data columns (total 7 columns):\n",
            " #   Column                    Non-Null Count  Dtype         \n",
            "---  ------                    --------------  -----         \n",
            " 0   movie_title               579 non-null    object        \n",
            " 1   release_date              579 non-null    datetime64[ns]\n",
            " 2   genre                     562 non-null    object        \n",
            " 3   mpaa_rating               523 non-null    object        \n",
            " 4   total_gross               579 non-null    int64         \n",
            " 5   inflation_adjusted_gross  579 non-null    int64         \n",
            " 6   release_year              579 non-null    int64         \n",
            "dtypes: datetime64[ns](1), int64(3), object(3)\n",
            "memory usage: 36.2+ KB\n",
            "None\n"
          ],
          "name": "stdout"
        }
      ]
    },
    {
      "cell_type": "markdown",
      "metadata": {
        "id": "XCSIOXVEVkWU"
      },
      "source": [
        "## Confidence intervals for regression parameters (iii)\n",
        "<p>Finally, we compute 95% confidence intervals for the intercept and coefficient and examine if they exclude 0. If one of them (or both) does, then it is unlikely that the value is 0 and we can conclude that there is a significant relationship between that genre and the adjusted gross. </p>"
      ]
    },
    {
      "cell_type": "code",
      "metadata": {
        "id": "xFGRNbQtV9Xw",
        "outputId": "ef9cff17-1679-4505-d7d6-51bc809e277e",
        "colab": {
          "base_uri": "https://localhost:8080/",
          "height": 348
        }
      },
      "source": [
        "# Compute 95% confidence intervals for intercept and coefficient values\n",
        "confidence_interval_action = np.percentile(bs_action_reps,[2.5,97.5])\n",
        "confidence_interval_adventure = np.percentile(bs_adventure_reps,[2.5,97.5])\n",
        "print(len(bs_action_reps))\n",
        "print(len(bs_adventure_reps))    \n",
        "bs_dict={\"intercept\":[bs_action_reps], \"coefficient\":[bs_adventure_reps]}\n",
        "bs_df=pd.DataFrame(bs_dict)\n",
        "# sns.lmplot(x='Net Sales', y='Wastage and Samp', data=np_scaled)\n",
        "def abline(slope, intercept):\n",
        "    \"\"\"Plot a line from slope and intercept\"\"\"\n",
        "    axes = plt.gca()\n",
        "    x_vals = np.array(axes.get_xlim())\n",
        "    y_vals = intercept + slope * x_vals\n",
        "    plt.plot(x_vals, y_vals, '--')\n",
        "abline(np.mean(bs_adventure_reps),np.mean(bs_action_reps))\n",
        "# Inspect the confidence intervals\n",
        "\n",
        "print(confidence_interval_action)\n",
        "print(confidence_interval_adventure)"
      ],
      "execution_count": 80,
      "outputs": [
        {
          "output_type": "stream",
          "text": [
            "500\n",
            "500\n",
            "[7.35974921e+07 1.39189551e+08]\n",
            "[3.44213313e+07 1.47099930e+08]\n"
          ],
          "name": "stdout"
        },
        {
          "output_type": "display_data",
          "data": {
            "image/png": "[encoded data removed]",
            "text/plain": [
              "<Figure size 432x288 with 1 Axes>"
            ]
          },
          "metadata": {
            "tags": []
          }
        }
      ]
    },
    {
      "cell_type": "markdown",
      "metadata": {
        "id": "SMEXfDjAVoL4"
      },
      "source": [
        "## Should Disney make more action and adventure movies?\n",
        "<p>The confidence intervals from the bootstrap method for the intercept and coefficient do not contain the value zero, as we have already seen that lower and upper bounds of both confidence intervals are positive. These tell us that it is likely that the adjusted gross is significantly correlated with the action and adventure genres. </p>\n",
        "<p>From the results of the bootstrap analysis and the trend plot we have done earlier, we could say that Disney movies with plots that fit into the action and adventure genre, according to our data, tend to do better in terms of adjusted gross than other genres. So we could expect more Marvel, Star Wars, and live-action movies in the upcoming years!</p>"
      ]
    },
    {
      "cell_type": "markdown",
      "metadata": {
        "id": "ifcSC3CmWCWl"
      },
      "source": [
        ""
      ]
    }
  ]
}