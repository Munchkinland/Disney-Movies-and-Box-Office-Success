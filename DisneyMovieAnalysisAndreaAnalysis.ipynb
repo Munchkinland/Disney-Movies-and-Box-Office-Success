{
  "nbformat": 4,
  "nbformat_minor": 0,
  "metadata": {
    "kernelspec": {
      "name": "python3",
      "display_name": "Python 3",
      "language": "python"
    },
    "language_info": {
      "name": "python",
      "version": "3.6.7",
      "mimetype": "text/x-python",
      "codemirror_mode": {
        "name": "ipython",
        "version": 3
      },
      "pygments_lexer": "ipython3",
      "nbconvert_exporter": "python",
      "file_extension": ".py"
    },
    "colab": {
      "name": "DisneyMovieAnalysisAndreaAnalysis.ipynb",
      "provenance": [],
      "collapsed_sections": [],
      "include_colab_link": true
    }
  },
  "cells": [
    {
      "cell_type": "markdown",
      "metadata": {
        "id": "view-in-github",
        "colab_type": "text"
      },
      "source": [
        "<a href=\"https://colab.research.google.com/github/uomodellamansarda/DisneyMoviesAnalysis/blob/main/DisneyMovieAnalysisAndreaAnalysis.ipynb\" target=\"_parent\"><img src=\"https://colab.research.google.com/assets/colab-badge.svg\" alt=\"Open In Colab\"/></a>"
      ]
    },
    {
      "cell_type": "markdown",
      "metadata": {
        "dc": {
          "key": "3"
        },
        "deletable": false,
        "editable": false,
        "run_control": {
          "frozen": true
        },
        "tags": [
          "context"
        ],
        "id": "wmmUfRexPDHP"
      },
      "source": [
        "## 1. The dataset\n",
        "<p>Walt Disney Studios is the foundation on which The Walt Disney Company was built. The Studios has produced more than 600 films since their debut film,  Snow White and the Seven Dwarfs in 1937. While many of its films were big hits, some of them were not. In this notebook, we will explore a dataset of Disney movies and analyze what contributes to the success of Disney movies.</p>\n",
        "<p><img src=\"https://assets.datacamp.com/production/project_740/img/jorge-martinez-instagram-jmartinezz9-431078-unsplash_edited.jpg\" alt></p>\n",
        "<p>First, we will take a look at the Disney data compiled by <a href=\"https://data.world/kgarrett/disney-character-success-00-16\">Kelly Garrett</a>. The data contains 579 Disney movies with six features: movie title, release date, genre, MPAA rating, total gross, and inflation-adjusted gross. </p>\n",
        "<p>Let's load the file and see what the data looks like.</p>"
      ]
    },
    {
      "cell_type": "code",
      "metadata": {
        "dc": {
          "key": "3"
        },
        "tags": [
          "sample_code"
        ],
        "trusted": true,
        "id": "ny6c-aL-PDHR",
        "colab": {
          "base_uri": "https://localhost:8080/",
          "height": 203
        },
        "outputId": "5de36254-7792-4486-c89c-0ffdc08c8f6f"
      },
      "source": [
        "# Import pandas library\n",
        "# ... YOUR CODE FOR TASK 1 ...\n",
        "import pandas as pd\n",
        "from sklearn.metrics import mean_squared_error\n",
        "# Read the file into gross\n",
        "url=\"https://raw.githubusercontent.com/uomodellamansarda/DisneyMoviesAnalysis/main/disney_movies_total_gross.csv\"\n",
        "\n",
        "gross = pd.read_csv(url)\n",
        "gross['release_date'] = gross['release_date'].apply(pd.to_datetime)\n",
        "\n",
        "# Print out gross\n",
        "gross.head()"
      ],
      "execution_count": 1,
      "outputs": [
        {
          "output_type": "execute_result",
          "data": {
            "text/html": [
              "<div>\n",
              "<style scoped>\n",
              "    .dataframe tbody tr th:only-of-type {\n",
              "        vertical-align: middle;\n",
              "    }\n",
              "\n",
              "    .dataframe tbody tr th {\n",
              "        vertical-align: top;\n",
              "    }\n",
              "\n",
              "    .dataframe thead th {\n",
              "        text-align: right;\n",
              "    }\n",
              "</style>\n",
              "<table border=\"1\" class=\"dataframe\">\n",
              "  <thead>\n",
              "    <tr style=\"text-align: right;\">\n",
              "      <th></th>\n",
              "      <th>movie_title</th>\n",
              "      <th>release_date</th>\n",
              "      <th>genre</th>\n",
              "      <th>MPAA_rating</th>\n",
              "      <th>total_gross</th>\n",
              "      <th>inflation_adjusted_gross</th>\n",
              "    </tr>\n",
              "  </thead>\n",
              "  <tbody>\n",
              "    <tr>\n",
              "      <th>0</th>\n",
              "      <td>Snow White and the Seven Dwarfs</td>\n",
              "      <td>1937-12-21</td>\n",
              "      <td>Musical</td>\n",
              "      <td>G</td>\n",
              "      <td>$184,925,485</td>\n",
              "      <td>$5,228,953,251</td>\n",
              "    </tr>\n",
              "    <tr>\n",
              "      <th>1</th>\n",
              "      <td>Pinocchio</td>\n",
              "      <td>1940-02-09</td>\n",
              "      <td>Adventure</td>\n",
              "      <td>G</td>\n",
              "      <td>$84,300,000</td>\n",
              "      <td>$2,188,229,052</td>\n",
              "    </tr>\n",
              "    <tr>\n",
              "      <th>2</th>\n",
              "      <td>Fantasia</td>\n",
              "      <td>1940-11-13</td>\n",
              "      <td>Musical</td>\n",
              "      <td>G</td>\n",
              "      <td>$83,320,000</td>\n",
              "      <td>$2,187,090,808</td>\n",
              "    </tr>\n",
              "    <tr>\n",
              "      <th>3</th>\n",
              "      <td>Song of the South</td>\n",
              "      <td>1946-11-12</td>\n",
              "      <td>Adventure</td>\n",
              "      <td>G</td>\n",
              "      <td>$65,000,000</td>\n",
              "      <td>$1,078,510,579</td>\n",
              "    </tr>\n",
              "    <tr>\n",
              "      <th>4</th>\n",
              "      <td>Cinderella</td>\n",
              "      <td>1950-02-15</td>\n",
              "      <td>Drama</td>\n",
              "      <td>G</td>\n",
              "      <td>$85,000,000</td>\n",
              "      <td>$920,608,730</td>\n",
              "    </tr>\n",
              "  </tbody>\n",
              "</table>\n",
              "</div>"
            ],
            "text/plain": [
              "                       movie_title  ... inflation_adjusted_gross\n",
              "0  Snow White and the Seven Dwarfs  ...           $5,228,953,251\n",
              "1                        Pinocchio  ...           $2,188,229,052\n",
              "2                         Fantasia  ...           $2,187,090,808\n",
              "3                Song of the South  ...           $1,078,510,579\n",
              "4                       Cinderella  ...             $920,608,730\n",
              "\n",
              "[5 rows x 6 columns]"
            ]
          },
          "metadata": {
            "tags": []
          },
          "execution_count": 1
        }
      ]
    },
    {
      "cell_type": "markdown",
      "metadata": {
        "dc": {
          "key": "12"
        },
        "deletable": false,
        "editable": false,
        "run_control": {
          "frozen": true
        },
        "tags": [
          "context"
        ],
        "id": "q2zNz-D6PDHk"
      },
      "source": [
        "## 2. Top ten movies at the box office\n",
        "<p>Let's started by exploring the data. We will check which are the 10 Disney movies that have earned the most at the box office. We can do this by sorting movies by their inflation-adjusted gross (we will call it adjusted gross from this point onward). </p>"
      ]
    },
    {
      "cell_type": "code",
      "metadata": {
        "dc": {
          "key": "12"
        },
        "tags": [
          "sample_code"
        ],
        "trusted": true,
        "id": "JGyAKOJ0PDHm",
        "colab": {
          "base_uri": "https://localhost:8080/",
          "height": 586
        },
        "outputId": "25cc92c8-fe42-46b5-b60f-11bdbedacd9f"
      },
      "source": [
        "# Sort data by the adjusted gross in descending order \n",
        "# ... YOUR CODE FOR TASK 2 ...\n",
        "#removing the dollar sign from df1 colums\n",
        "gross=gross.apply(lambda x: x.str.strip('$') if x.dtype == \"object\" else x)\n",
        "#removing the comma from the numeric columns\n",
        "gross=gross.apply(lambda x: x.replace(',',\"\",regex=True) if x.dtype == \"object\" else x)\n",
        "#converting to numeric our columns (where it is possible)\n",
        "gross=gross.apply(lambda x: pd.to_numeric(x,errors=\"ignore\") if x.dtype == \"object\" else x)\n",
        "gross=gross.sort_values(by=\"inflation_adjusted_gross\",ascending=False)\n",
        "\n",
        "# Display the top 10 movies \n",
        "# ... YOUR CODE FOR TASK 2 ...\n",
        "gross.info()\n",
        "gross.head(10)"
      ],
      "execution_count": 2,
      "outputs": [
        {
          "output_type": "stream",
          "text": [
            "<class 'pandas.core.frame.DataFrame'>\n",
            "Int64Index: 579 entries, 0 to 29\n",
            "Data columns (total 6 columns):\n",
            " #   Column                    Non-Null Count  Dtype         \n",
            "---  ------                    --------------  -----         \n",
            " 0   movie_title               579 non-null    object        \n",
            " 1   release_date              579 non-null    datetime64[ns]\n",
            " 2   genre                     562 non-null    object        \n",
            " 3   MPAA_rating               523 non-null    object        \n",
            " 4   total_gross               579 non-null    int64         \n",
            " 5   inflation_adjusted_gross  579 non-null    int64         \n",
            "dtypes: datetime64[ns](1), int64(2), object(3)\n",
            "memory usage: 31.7+ KB\n"
          ],
          "name": "stdout"
        },
        {
          "output_type": "execute_result",
          "data": {
            "text/html": [
              "<div>\n",
              "<style scoped>\n",
              "    .dataframe tbody tr th:only-of-type {\n",
              "        vertical-align: middle;\n",
              "    }\n",
              "\n",
              "    .dataframe tbody tr th {\n",
              "        vertical-align: top;\n",
              "    }\n",
              "\n",
              "    .dataframe thead th {\n",
              "        text-align: right;\n",
              "    }\n",
              "</style>\n",
              "<table border=\"1\" class=\"dataframe\">\n",
              "  <thead>\n",
              "    <tr style=\"text-align: right;\">\n",
              "      <th></th>\n",
              "      <th>movie_title</th>\n",
              "      <th>release_date</th>\n",
              "      <th>genre</th>\n",
              "      <th>MPAA_rating</th>\n",
              "      <th>total_gross</th>\n",
              "      <th>inflation_adjusted_gross</th>\n",
              "    </tr>\n",
              "  </thead>\n",
              "  <tbody>\n",
              "    <tr>\n",
              "      <th>0</th>\n",
              "      <td>Snow White and the Seven Dwarfs</td>\n",
              "      <td>1937-12-21</td>\n",
              "      <td>Musical</td>\n",
              "      <td>G</td>\n",
              "      <td>184925485</td>\n",
              "      <td>5228953251</td>\n",
              "    </tr>\n",
              "    <tr>\n",
              "      <th>1</th>\n",
              "      <td>Pinocchio</td>\n",
              "      <td>1940-02-09</td>\n",
              "      <td>Adventure</td>\n",
              "      <td>G</td>\n",
              "      <td>84300000</td>\n",
              "      <td>2188229052</td>\n",
              "    </tr>\n",
              "    <tr>\n",
              "      <th>2</th>\n",
              "      <td>Fantasia</td>\n",
              "      <td>1940-11-13</td>\n",
              "      <td>Musical</td>\n",
              "      <td>G</td>\n",
              "      <td>83320000</td>\n",
              "      <td>2187090808</td>\n",
              "    </tr>\n",
              "    <tr>\n",
              "      <th>8</th>\n",
              "      <td>101 Dalmatians</td>\n",
              "      <td>1961-01-25</td>\n",
              "      <td>Comedy</td>\n",
              "      <td>G</td>\n",
              "      <td>153000000</td>\n",
              "      <td>1362870985</td>\n",
              "    </tr>\n",
              "    <tr>\n",
              "      <th>6</th>\n",
              "      <td>Lady and the Tramp</td>\n",
              "      <td>1955-06-22</td>\n",
              "      <td>Drama</td>\n",
              "      <td>G</td>\n",
              "      <td>93600000</td>\n",
              "      <td>1236035515</td>\n",
              "    </tr>\n",
              "    <tr>\n",
              "      <th>3</th>\n",
              "      <td>Song of the South</td>\n",
              "      <td>1946-11-12</td>\n",
              "      <td>Adventure</td>\n",
              "      <td>G</td>\n",
              "      <td>65000000</td>\n",
              "      <td>1078510579</td>\n",
              "    </tr>\n",
              "    <tr>\n",
              "      <th>564</th>\n",
              "      <td>Star Wars Ep. VII: The Force Awakens</td>\n",
              "      <td>2015-12-18</td>\n",
              "      <td>Adventure</td>\n",
              "      <td>PG-13</td>\n",
              "      <td>936662225</td>\n",
              "      <td>936662225</td>\n",
              "    </tr>\n",
              "    <tr>\n",
              "      <th>4</th>\n",
              "      <td>Cinderella</td>\n",
              "      <td>1950-02-15</td>\n",
              "      <td>Drama</td>\n",
              "      <td>G</td>\n",
              "      <td>85000000</td>\n",
              "      <td>920608730</td>\n",
              "    </tr>\n",
              "    <tr>\n",
              "      <th>13</th>\n",
              "      <td>The Jungle Book</td>\n",
              "      <td>1967-10-18</td>\n",
              "      <td>Musical</td>\n",
              "      <td>Not Rated</td>\n",
              "      <td>141843000</td>\n",
              "      <td>789612346</td>\n",
              "    </tr>\n",
              "    <tr>\n",
              "      <th>179</th>\n",
              "      <td>The Lion King</td>\n",
              "      <td>1994-06-15</td>\n",
              "      <td>Adventure</td>\n",
              "      <td>G</td>\n",
              "      <td>422780140</td>\n",
              "      <td>761640898</td>\n",
              "    </tr>\n",
              "  </tbody>\n",
              "</table>\n",
              "</div>"
            ],
            "text/plain": [
              "                              movie_title  ... inflation_adjusted_gross\n",
              "0         Snow White and the Seven Dwarfs  ...               5228953251\n",
              "1                               Pinocchio  ...               2188229052\n",
              "2                                Fantasia  ...               2187090808\n",
              "8                          101 Dalmatians  ...               1362870985\n",
              "6                      Lady and the Tramp  ...               1236035515\n",
              "3                       Song of the South  ...               1078510579\n",
              "564  Star Wars Ep. VII: The Force Awakens  ...                936662225\n",
              "4                              Cinderella  ...                920608730\n",
              "13                        The Jungle Book  ...                789612346\n",
              "179                         The Lion King  ...                761640898\n",
              "\n",
              "[10 rows x 6 columns]"
            ]
          },
          "metadata": {
            "tags": []
          },
          "execution_count": 2
        }
      ]
    },
    {
      "cell_type": "markdown",
      "metadata": {
        "dc": {
          "key": "19"
        },
        "deletable": false,
        "editable": false,
        "run_control": {
          "frozen": true
        },
        "tags": [
          "context"
        ],
        "id": "7TaeAcH5PDHu"
      },
      "source": [
        "## 3. Movie genre trend\n",
        "<p>From the top 10 movies above, it seems that some genres are more popular than others. So, we will check which genres are growing stronger in popularity. To do this, we will group movies by genre and then by year to see the adjusted gross of each genre in each year.</p>"
      ]
    },
    {
      "cell_type": "code",
      "metadata": {
        "dc": {
          "key": "19"
        },
        "tags": [
          "sample_code"
        ],
        "trusted": true,
        "id": "d-defFK3PDHv",
        "colab": {
          "base_uri": "https://localhost:8080/"
        },
        "outputId": "108176c8-1071-4caa-dd5b-d22f5b01eaeb"
      },
      "source": [
        "# Extract year from release_date and store it in a new column\n",
        "gross['release_year'] = pd.DatetimeIndex(gross['release_date']).year\n",
        "\n",
        "# Compute mean of adjusted gross per genre and per year\n",
        "group = gross.groupby(['genre','release_year']).mean()\n",
        "\n",
        "# Convert the GroupBy object to a DataFrame\n",
        "genre_yearly = group.reset_index()\n",
        "\n",
        "# Inspect genre_yearly \n",
        "genre_yearly.head(10)\n",
        "print(genre_yearly.info())\n"
      ],
      "execution_count": 3,
      "outputs": [
        {
          "output_type": "stream",
          "text": [
            "<class 'pandas.core.frame.DataFrame'>\n",
            "RangeIndex: 218 entries, 0 to 217\n",
            "Data columns (total 4 columns):\n",
            " #   Column                    Non-Null Count  Dtype  \n",
            "---  ------                    --------------  -----  \n",
            " 0   genre                     218 non-null    object \n",
            " 1   release_year              218 non-null    int64  \n",
            " 2   total_gross               218 non-null    float64\n",
            " 3   inflation_adjusted_gross  218 non-null    float64\n",
            "dtypes: float64(2), int64(1), object(1)\n",
            "memory usage: 6.9+ KB\n",
            "None\n"
          ],
          "name": "stdout"
        }
      ]
    },
    {
      "cell_type": "code",
      "metadata": {
        "colab": {
          "base_uri": "https://localhost:8080/"
        },
        "id": "jZhrNJuZTKEy",
        "outputId": "91d0f816-1687-49bb-b991-dcd90a6962d9"
      },
      "source": [
        "#genre stats \n",
        "pd.set_option('display.float_format', str)\n",
        "genre_mean = gross.groupby(['genre']).mean().round().sort_values(by=['inflation_adjusted_gross'],\n",
        "                                                                 ascending=False)\n",
        "genre_std = gross.groupby(['genre']).std().round().sort_values(by=['inflation_adjusted_gross'],\n",
        "                                                               ascending=False)\n",
        "print(\"Genre Numbers:\",len(set(gross.genre)))\n",
        "print(genre_mean.info())\n",
        "print(genre_mean)\n",
        "print(genre_std.info())\n",
        "print(genre_std)\n"
      ],
      "execution_count": 4,
      "outputs": [
        {
          "output_type": "stream",
          "text": [
            "Genre Numbers: 13\n",
            "<class 'pandas.core.frame.DataFrame'>\n",
            "Index: 12 entries, Musical to Documentary\n",
            "Data columns (total 3 columns):\n",
            " #   Column                    Non-Null Count  Dtype  \n",
            "---  ------                    --------------  -----  \n",
            " 0   total_gross               12 non-null     float64\n",
            " 1   inflation_adjusted_gross  12 non-null     float64\n",
            " 2   release_year              12 non-null     float64\n",
            "dtypes: float64(3)\n",
            "memory usage: 384.0+ bytes\n",
            "None\n",
            "                     total_gross  inflation_adjusted_gross  release_year\n",
            "genre                                                                   \n",
            "Musical               72330260.0               603597861.0        1984.0\n",
            "Adventure            127047050.0               190397412.0        2001.0\n",
            "Action               104614082.0               137473420.0        1999.0\n",
            "Thriller/Suspense     58616938.0                89653790.0        2000.0\n",
            "Comedy                44613295.0                84667730.0        1996.0\n",
            "Romantic Comedy       50095950.0                77777084.0        1999.0\n",
            "Western               51287351.0                73815707.0        2002.0\n",
            "Drama                 36026079.0                71893022.0        1998.0\n",
            "Concert/Performance   51728233.0                57410839.0        2008.0\n",
            "Black Comedy          32514404.0                52243492.0        1999.0\n",
            "Horror                14511479.0                23413849.0        1997.0\n",
            "Documentary           11292851.0                12718026.0        2009.0\n",
            "<class 'pandas.core.frame.DataFrame'>\n",
            "Index: 12 entries, Musical to Documentary\n",
            "Data columns (total 3 columns):\n",
            " #   Column                    Non-Null Count  Dtype  \n",
            "---  ------                    --------------  -----  \n",
            " 0   total_gross               12 non-null     float64\n",
            " 1   inflation_adjusted_gross  12 non-null     float64\n",
            " 2   release_year              12 non-null     float64\n",
            "dtypes: float64(3)\n",
            "memory usage: 384.0+ bytes\n",
            "None\n",
            "                     total_gross  inflation_adjusted_gross  release_year\n",
            "genre                                                                   \n",
            "Musical               65158314.0              1346573259.0          24.0\n",
            "Adventure            142143457.0               254601569.0          13.0\n",
            "Drama                 38794051.0               146109217.0          11.0\n",
            "Action               140062212.0               145310137.0           9.0\n",
            "Comedy                45550875.0               122647640.0           9.0\n",
            "Thriller/Suspense     70895034.0               112118848.0           7.0\n",
            "Romantic Comedy       49475528.0                79855298.0           7.0\n",
            "Western               27374984.0                36379387.0           7.0\n",
            "Concert/Performance   19167611.0                27204030.0           1.0\n",
            "Black Comedy          18036954.0                24189668.0           2.0\n",
            "Horror                 9377734.0                13930280.0          10.0\n",
            "Documentary           10288326.0                11337717.0           4.0\n"
          ],
          "name": "stdout"
        }
      ]
    },
    {
      "cell_type": "markdown",
      "metadata": {
        "dc": {
          "key": "26"
        },
        "deletable": false,
        "editable": false,
        "run_control": {
          "frozen": true
        },
        "tags": [
          "context"
        ],
        "id": "exJFXlatPDH2"
      },
      "source": [
        "## 4. Visualize the genre popularity trend\n",
        "<p>We will make a plot out of these means of groups to better see how box office revenues have changed over time.</p>"
      ]
    },
    {
      "cell_type": "code",
      "metadata": {
        "dc": {
          "key": "26"
        },
        "tags": [
          "sample_code"
        ],
        "trusted": true,
        "id": "RhUPSLLcPDH4",
        "colab": {
          "base_uri": "https://localhost:8080/",
          "height": 401
        },
        "outputId": "c720d0b0-6ec2-47d7-a6cf-f7469d548f98"
      },
      "source": [
        "# Import seaborn library\n",
        "# ... YOUR CODE FOR TASK 4 ...\n",
        "import seaborn as sns\n",
        "# Plot the data  \n",
        "sns.relplot(data=genre_yearly,x='release_year',y='inflation_adjusted_gross',kind='line',hue='genre')\n",
        "# ... YOUR CODE FOR TASK 4 ..."
      ],
      "execution_count": 5,
      "outputs": [
        {
          "output_type": "execute_result",
          "data": {
            "text/plain": [
              "<seaborn.axisgrid.FacetGrid at 0x7f122a284da0>"
            ]
          },
          "metadata": {
            "tags": []
          },
          "execution_count": 5
        },
        {
          "output_type": "display_data",
          "data": {
            "image/png": "[encoded data removed]",
            "text/plain": [
              "<Figure size 501.5x360 with 1 Axes>"
            ]
          },
          "metadata": {
            "tags": [],
            "needs_background": "light"
          }
        }
      ]
    },
    {
      "cell_type": "markdown",
      "metadata": {
        "dc": {
          "key": "33"
        },
        "deletable": false,
        "editable": false,
        "run_control": {
          "frozen": true
        },
        "tags": [
          "context"
        ],
        "id": "7vYEm5AVPDIC"
      },
      "source": [
        "## 5. Data transformation\n",
        "<p>The line plot supports our belief that some genres are growing faster in popularity than others. For Disney movies, Action and Adventure genres are growing the fastest. Next, we will build a linear regression model to understand the relationship between genre and box office gross. </p>\n",
        "<p>Since linear regression requires numerical variables and the genre variable is a categorical variable, we'll use a technique called one-hot encoding to convert the categorical variables to numerical. This technique transforms each category value into a new column and assigns a 1 or 0 to the column. </p>\n",
        "<p>For this dataset, there will be 11 dummy variables, one for each genre except the action genre which we will use as a baseline. For example, if a movie is an adventure movie, like The Lion King, the adventure variable will be 1 and other dummy variables will be 0. Since the action genre is our baseline, if a movie is an action movie, such as The Avengers, all dummy variables will be 0.</p>"
      ]
    },
    {
      "cell_type": "code",
      "metadata": {
        "dc": {
          "key": "33"
        },
        "tags": [
          "sample_code"
        ],
        "trusted": true,
        "id": "5behiGTsPDIE",
        "colab": {
          "base_uri": "https://localhost:8080/"
        },
        "outputId": "e44d210d-6133-4b2e-9bb0-6163126b0608"
      },
      "source": [
        "# Convert genre variable to dummy variables \n",
        "genre_dummies = pd.get_dummies(gross['genre'],drop_first=True)\n",
        "\n",
        "# Inspect genre_dummies\n",
        "genre_dummies.head()\n",
        "genre_dummies.info()"
      ],
      "execution_count": 6,
      "outputs": [
        {
          "output_type": "stream",
          "text": [
            "<class 'pandas.core.frame.DataFrame'>\n",
            "Int64Index: 579 entries, 0 to 29\n",
            "Data columns (total 11 columns):\n",
            " #   Column               Non-Null Count  Dtype\n",
            "---  ------               --------------  -----\n",
            " 0   Adventure            579 non-null    uint8\n",
            " 1   Black Comedy         579 non-null    uint8\n",
            " 2   Comedy               579 non-null    uint8\n",
            " 3   Concert/Performance  579 non-null    uint8\n",
            " 4   Documentary          579 non-null    uint8\n",
            " 5   Drama                579 non-null    uint8\n",
            " 6   Horror               579 non-null    uint8\n",
            " 7   Musical              579 non-null    uint8\n",
            " 8   Romantic Comedy      579 non-null    uint8\n",
            " 9   Thriller/Suspense    579 non-null    uint8\n",
            " 10  Western              579 non-null    uint8\n",
            "dtypes: uint8(11)\n",
            "memory usage: 10.7 KB\n"
          ],
          "name": "stdout"
        }
      ]
    },
    {
      "cell_type": "markdown",
      "metadata": {
        "dc": {
          "key": "40"
        },
        "deletable": false,
        "editable": false,
        "run_control": {
          "frozen": true
        },
        "tags": [
          "context"
        ],
        "id": "N3gc2qC7PDIN"
      },
      "source": [
        "## 6. The genre effect\n",
        "<p>Now that we have dummy variables, we can build a linear regression model to predict the adjusted gross using these dummy variables.</p>\n",
        "<p>From the regression model, we can check the effect of each genre by looking at its coefficient given in units of box office gross dollars. We will focus on the impact of action and adventure genres here. (Note that the intercept and the first coefficient values represent the effect of action and adventure genres respectively). We expect that movies like the Lion King or Star Wars would perform better for box office.</p>"
      ]
    },
    {
      "cell_type": "code",
      "metadata": {
        "dc": {
          "key": "40"
        },
        "tags": [
          "sample_code"
        ],
        "trusted": true,
        "id": "EbdxlLN7PDIP",
        "colab": {
          "base_uri": "https://localhost:8080/"
        },
        "outputId": "94f9614b-decb-482a-e896-e738e0131133"
      },
      "source": [
        "# Import LinearRegression\n",
        "# ... YOUR CODE FOR TASK 6 ...\n",
        "from sklearn.linear_model import LinearRegression\n",
        "from sklearn.metrics import mean_squared_error\n",
        "# Build a linear regression model\n",
        "regr = LinearRegression()\n",
        "\n",
        "# Fit regr to the dataset\n",
        "# ... YOUR CODE FOR TASK 6 ...\n",
        "regr.fit(genre_dummies,gross['inflation_adjusted_gross'])\n",
        "print(genre_dummies.size)\n",
        "print(genre_dummies.shape)\n",
        "action =  regr.intercept_\n",
        "adventure = regr.coef_[[0]][0]\n",
        "print()\n",
        "print(\"Len Coefficent\",len(regr.coef_))\n",
        "# Inspect the estimated intercept and coefficient values \n",
        "print((action, adventure))\n"
      ],
      "execution_count": 7,
      "outputs": [
        {
          "output_type": "stream",
          "text": [
            "6369\n",
            "(579, 11)\n",
            "\n",
            "Len Coefficent 11\n",
            "(102921757.36842026, 87475654.70909917)\n"
          ],
          "name": "stdout"
        }
      ]
    },
    {
      "cell_type": "code",
      "metadata": {
        "colab": {
          "base_uri": "https://localhost:8080/"
        },
        "id": "DC-fZrniJ19Z",
        "outputId": "18485822-a136-4493-c93f-6e7c14f1de2f"
      },
      "source": [
        "#evaluating the results \n",
        "prediction=regr.predict(genre_dummies)\n",
        "score=regr.score(genre_dummies,gross['inflation_adjusted_gross'])\n",
        "print(\"Pearson Correlation Value is:\\n\",score.round(3))\n",
        "reg_mean_squared_error=mean_squared_error(gross['inflation_adjusted_gross'],prediction)\n",
        "print(np.vectorize(\"%.1f\".__mod__)(reg_mean_squared_error))\n"
      ],
      "execution_count": 27,
      "outputs": [
        {
          "output_type": "stream",
          "text": [
            "Pearson Correlation Value is:\n",
            " 0.109\n",
            "72801697571099360.0\n"
          ],
          "name": "stdout"
        }
      ]
    },
    {
      "cell_type": "code",
      "metadata": {
        "colab": {
          "base_uri": "https://localhost:8080/"
        },
        "id": "z7SQ017_MvCo",
        "outputId": "8f8f2c2d-d599-4cfe-cf00-fcad48f8b5b2"
      },
      "source": [
        "#we will fit 13 linear regression individually \n",
        "#one for each genre\n",
        "#get results and make our assumptions\n",
        "genre_list=list(set(gross['genre'].dropna()))\n",
        "print(type(genre_list))\n",
        "score_df=pd.DataFrame(genre_list,columns=['genre_list'])\n",
        "score_df=score_df.assign(r2=np.zeros([len(genre_list),1]))\n",
        "score_df=score_df.assign(MSE=np.zeros([len(genre_list),1]))\n",
        "print(score_df)\n",
        "for idx,x in enumerate(score_df['genre_list']): \n",
        "  \n",
        "  y_vector=gross[gross['genre']==x]['inflation_adjusted_gross']\n",
        "  x_vector=np.ones([len(y_vector),1])\n",
        "  regr = LinearRegression()\n",
        "  regr.fit(x_vector,y_vector)\n",
        "  y_pred=regr.predict(x_vector)\n",
        "  score_df.at[idx,'r2']=regr.score(x_vector,y_vector)\n",
        "  #regr.score(genre_dummies,gross['inflation_adjusted_gross']\n",
        "  score_df.at[idx,'MSE']=mean_squared_error(y_vector,y_pred).round()"
      ],
      "execution_count": 46,
      "outputs": [
        {
          "output_type": "stream",
          "text": [
            "<class 'list'>\n",
            "             genre_list  r2  MSE\n",
            "0               Western 0.0  0.0\n",
            "1           Documentary 0.0  0.0\n",
            "2   Concert/Performance 0.0  0.0\n",
            "3                Comedy 0.0  0.0\n",
            "4               Musical 0.0  0.0\n",
            "5       Romantic Comedy 0.0  0.0\n",
            "6     Thriller/Suspense 0.0  0.0\n",
            "7                 Drama 0.0  0.0\n",
            "8                Horror 0.0  0.0\n",
            "9             Adventure 0.0  0.0\n",
            "10         Black Comedy 0.0  0.0\n",
            "11               Action 0.0  0.0\n"
          ],
          "name": "stdout"
        }
      ]
    },
    {
      "cell_type": "code",
      "metadata": {
        "colab": {
          "base_uri": "https://localhost:8080/"
        },
        "id": "Q3HJc7_4m5Rx",
        "outputId": "9084c4c2-caa1-4ed6-c8af-a27dbee198e6"
      },
      "source": [
        "#comparing Andrea Ciufo estimator with the DataCamp tutor\n",
        "print(score_df.info())\n",
        "score_df=score_df.assign(dc_mse=reg_mean_squared_error)\n",
        "score_df=score_df.assign(dc_mse_grt_mse=score_df['dc_mse']>score_df['MSE'])\n",
        "print(score_df.sort_values(by=['MSE'],ascending=False))"
      ],
      "execution_count": 53,
      "outputs": [
        {
          "output_type": "stream",
          "text": [
            "<class 'pandas.core.frame.DataFrame'>\n",
            "RangeIndex: 12 entries, 0 to 11\n",
            "Data columns (total 4 columns):\n",
            " #   Column      Non-Null Count  Dtype  \n",
            "---  ------      --------------  -----  \n",
            " 0   genre_list  12 non-null     object \n",
            " 1   r2          12 non-null     float64\n",
            " 2   MSE         12 non-null     float64\n",
            " 3   dc_mse      12 non-null     float64\n",
            "dtypes: float64(3), object(1)\n",
            "memory usage: 512.0+ bytes\n",
            "None\n",
            "             genre_list  r2  ...                dc_mse  dc_mse_grt_mse\n",
            "4               Musical 0.0  ... 7.280169757109936e+16           False\n",
            "9             Adventure 0.0  ... 7.280169757109936e+16            True\n",
            "7                 Drama 0.0  ... 7.280169757109936e+16            True\n",
            "11               Action 0.0  ... 7.280169757109936e+16            True\n",
            "3                Comedy 0.0  ... 7.280169757109936e+16            True\n",
            "6     Thriller/Suspense 0.0  ... 7.280169757109936e+16            True\n",
            "5       Romantic Comedy 0.0  ... 7.280169757109936e+16            True\n",
            "0               Western 0.0  ... 7.280169757109936e+16            True\n",
            "10         Black Comedy 0.0  ... 7.280169757109936e+16            True\n",
            "2   Concert/Performance 0.0  ... 7.280169757109936e+16            True\n",
            "8                Horror 0.0  ... 7.280169757109936e+16            True\n",
            "1           Documentary 0.0  ... 7.280169757109936e+16            True\n",
            "\n",
            "[12 rows x 5 columns]\n"
          ],
          "name": "stdout"
        }
      ]
    }
  ]
}